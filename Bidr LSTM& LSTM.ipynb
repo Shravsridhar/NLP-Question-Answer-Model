{
 "cells": [
  {
   "cell_type": "markdown",
   "metadata": {},
   "source": [
    "# Ensemble of Bidirectional LSTM and LSTM Model"
   ]
  },
  {
   "cell_type": "code",
   "execution_count": 29,
   "metadata": {},
   "outputs": [],
   "source": [
    "import json\n",
    "import numpy as np\n",
    "import re\n",
    "import io\n",
    "import nltk\n",
    "import h5py\n",
    "import keras as k\n",
    "from keras.layers.embeddings import Embedding\n",
    "from keras.layers import Input, Dense, Dropout, RepeatVector, Activation, merge, Lambda, Flatten, Reshape,Permute\n",
    "from keras.layers import LSTM, Bidirectional, TimeDistributed, GRU\n",
    "from keras.models import Model\n",
    "from keras.preprocessing.sequence import pad_sequences\n",
    "from keras.models import Model\n",
    "from keras import optimizers\n",
    "from keras.optimizers import Adam, RMSprop\n",
    "from keras.callbacks import ModelCheckpoint, EarlyStopping\n",
    "from keras.layers import concatenate\n",
    "from sklearn.metrics import f1_score\n",
    "from keras_self_attention import SeqSelfAttention"
   ]
  },
  {
   "cell_type": "code",
   "execution_count": 2,
   "metadata": {},
   "outputs": [
    {
     "name": "stdout",
     "output_type": "stream",
     "text": [
      "Found 400000 word vectors.\n"
     ]
    }
   ],
   "source": [
    "embeddings_index = {}\n",
    "f = open( 'glove.6B.100d.txt',encoding=\"utf8\")\n",
    "for line in f:\n",
    "    values = line.split()\n",
    "    word = values[0]\n",
    "    coefs = np.asarray(values[1:], dtype='float32')\n",
    "    embeddings_index[word] = coefs\n",
    "f.close()\n",
    "\n",
    "print('Found %s word vectors.' % len(embeddings_index))"
   ]
  },
  {
   "cell_type": "code",
   "execution_count": 3,
   "metadata": {},
   "outputs": [],
   "source": [
    "context = h5py.File('context.h5','r')\n",
    "questions = h5py.File('questions.h5','r')\n",
    "answers = h5py.File('answers.h5','r')\n",
    "ans_begin = h5py.File('begin.h5','r')\n",
    "ans_end = h5py.File('end.h5','r')"
   ]
  },
  {
   "cell_type": "code",
   "execution_count": 5,
   "metadata": {},
   "outputs": [],
   "source": [
    "c_data = context['context'][:]\n",
    "qn_data = questions['questions'][:]\n",
    "ans_data = answers['answers'][:]\n",
    "begin_ans = ans_begin['begin'][:]\n",
    "end_ans = ans_end['end'][:]"
   ]
  },
  {
   "cell_type": "code",
   "execution_count": 6,
   "metadata": {},
   "outputs": [],
   "source": [
    "# loding vocabulary\n",
    "word_index = np.load('words.npy').item()"
   ]
  },
  {
   "cell_type": "code",
   "execution_count": 7,
   "metadata": {},
   "outputs": [],
   "source": [
    "embedding_matrix = np.zeros((len(word_index) + 1, 100))\n",
    "for word, i in word_index.items():\n",
    "    embedding_vector = embeddings_index.get(word)\n",
    "    if embedding_vector is not None:\n",
    "        # words not found in embedding index will be all-zeros.\n",
    "        embedding_matrix[i] = embedding_vector"
   ]
  },
  {
   "cell_type": "code",
   "execution_count": 22,
   "metadata": {},
   "outputs": [],
   "source": [
    "vocab_size = len(word_index) + 1\n",
    "#embedding_vector_length = 50\n",
    "batch_size = 64\n",
    "max_span_begin = np.amax(begin_ans)\n",
    "max_span_end = np.amax(end_ans)\n",
    "train = 10000\n"
   ]
  },
  {
   "cell_type": "code",
   "execution_count": 9,
   "metadata": {},
   "outputs": [
    {
     "name": "stdout",
     "output_type": "stream",
     "text": [
      "Vocab Size\n"
     ]
    },
    {
     "data": {
      "text/plain": [
       "119616"
      ]
     },
     "execution_count": 9,
     "metadata": {},
     "output_type": "execute_result"
    }
   ],
   "source": [
    "print(\"Vocab Size\")\n",
    "vocab_size"
   ]
  },
  {
   "cell_type": "code",
   "execution_count": 46,
   "metadata": {},
   "outputs": [],
   "source": [
    "context_input = Input(shape=(700, ), dtype='int32', name='c_data')\n",
    "embed_c = Embedding(input_dim=vocab_size, output_dim=100, weights=[embedding_matrix], \n",
    "              input_length=700, trainable=False)(context_input)\n",
    "lstm_1 = LSTM(256, return_sequences=True, implementation=2)(embed_c)\n",
    "bidir_1 = Bidirectional(LSTM(500, return_sequences=True, implementation=2), merge_mode='concat')(lstm_1)\n",
    "drop_1 = Dropout(0.5)(bidir_1)"
   ]
  },
  {
   "cell_type": "code",
   "execution_count": 47,
   "metadata": {},
   "outputs": [],
   "source": [
    "ques_input = Input(shape=(100, ), dtype='int32', name='qn_data')\n",
    "embed_q = Embedding(input_dim=vocab_size, output_dim=100, weights=[embedding_matrix], \n",
    "              input_length=100, trainable=False)(ques_input)\n",
    "lstm_2 = LSTM(256, return_sequences=True, implementation=2)(embed_q)\n",
    "bidir_2 = Bidirectional(LSTM(500, return_sequences=True, implementation=2), merge_mode='concat')(lstm_2)\n",
    "drop_2 = Dropout(0.5)(bidir_2)"
   ]
  },
  {
   "cell_type": "code",
   "execution_count": 48,
   "metadata": {},
   "outputs": [
    {
     "name": "stdout",
     "output_type": "stream",
     "text": [
      "__________________________________________________________________________________________________\n",
      "Layer (type)                    Output Shape         Param #     Connected to                     \n",
      "==================================================================================================\n",
      "c_data (InputLayer)             (None, 700)          0                                            \n",
      "__________________________________________________________________________________________________\n",
      "qn_data (InputLayer)            (None, 100)          0                                            \n",
      "__________________________________________________________________________________________________\n",
      "embedding_16 (Embedding)        (None, 700, 100)     11961600    c_data[0][0]                     \n",
      "__________________________________________________________________________________________________\n",
      "embedding_17 (Embedding)        (None, 100, 100)     11961600    qn_data[0][0]                    \n",
      "__________________________________________________________________________________________________\n",
      "lstm_21 (LSTM)                  (None, 700, 256)     365568      embedding_16[0][0]               \n",
      "__________________________________________________________________________________________________\n",
      "lstm_23 (LSTM)                  (None, 100, 256)     365568      embedding_17[0][0]               \n",
      "__________________________________________________________________________________________________\n",
      "bidirectional_21 (Bidirectional (None, 700, 1000)    3028000     lstm_21[0][0]                    \n",
      "__________________________________________________________________________________________________\n",
      "bidirectional_22 (Bidirectional (None, 100, 1000)    3028000     lstm_23[0][0]                    \n",
      "__________________________________________________________________________________________________\n",
      "dropout_16 (Dropout)            (None, 700, 1000)    0           bidirectional_21[0][0]           \n",
      "__________________________________________________________________________________________________\n",
      "dropout_17 (Dropout)            (None, 100, 1000)    0           bidirectional_22[0][0]           \n",
      "__________________________________________________________________________________________________\n",
      "concatenate_9 (Concatenate)     (None, 800, 1000)    0           dropout_16[0][0]                 \n",
      "                                                                 dropout_17[0][0]                 \n",
      "__________________________________________________________________________________________________\n",
      "bidirectional_23 (Bidirectional (None, 500)          6004000     concatenate_9[0][0]              \n",
      "__________________________________________________________________________________________________\n",
      "dense_11 (Dense)                (None, 3126)         1566126     bidirectional_23[0][0]           \n",
      "__________________________________________________________________________________________________\n",
      "dense_12 (Dense)                (None, 3136)         1571136     bidirectional_23[0][0]           \n",
      "==================================================================================================\n",
      "Total params: 39,851,598\n",
      "Trainable params: 15,928,398\n",
      "Non-trainable params: 23,923,200\n",
      "__________________________________________________________________________________________________\n"
     ]
    }
   ],
   "source": [
    "merge_layer = concatenate([drop_1, drop_2], axis=1)\n",
    "bidir_3 = Bidirectional(LSTM(500, implementation=2), merge_mode='mul')(merge_layer)\n",
    "drop_3 =  Dropout(0.4)(bidir_3)\n",
    "softmax_1 = Dense(max_span_begin, activation='softmax')(bidir_3)\n",
    "softmax_2 = Dense(max_span_end, activation='softmax')(bidir_3)\n",
    "model = Model(inputs=[context_input, ques_input], outputs=[softmax_1, softmax_2])\n",
    "model.compile(optimizer='adam', loss='sparse_categorical_crossentropy', metrics=['accuracy'])\n",
    "model.summary()"
   ]
  },
  {
   "cell_type": "code",
   "execution_count": 49,
   "metadata": {},
   "outputs": [
    {
     "name": "stdout",
     "output_type": "stream",
     "text": [
      "Epoch 1/20\n",
      " - 1294s - loss: 14.1160 - dense_11_loss: 7.0224 - dense_12_loss: 7.0936 - dense_11_acc: 0.0267 - dense_12_acc: 0.0044\n",
      "Epoch 2/20\n",
      " - 1280s - loss: 13.3320 - dense_11_loss: 6.6253 - dense_12_loss: 6.7068 - dense_11_acc: 0.0280 - dense_12_acc: 0.0057\n",
      "Epoch 3/20\n",
      " - 1275s - loss: 13.2753 - dense_11_loss: 6.5972 - dense_12_loss: 6.6782 - dense_11_acc: 0.0280 - dense_12_acc: 0.0055\n",
      "Epoch 4/20\n",
      " - 1272s - loss: 13.8021 - dense_11_loss: 6.8672 - dense_12_loss: 6.9350 - dense_11_acc: 0.0263 - dense_12_acc: 0.0066\n",
      "Epoch 5/20\n",
      " - 1275s - loss: 13.9166 - dense_11_loss: 6.9313 - dense_12_loss: 6.9853 - dense_11_acc: 0.0279 - dense_12_acc: 0.0049\n",
      "Epoch 6/20\n",
      " - 1270s - loss: 13.4011 - dense_11_loss: 6.6634 - dense_12_loss: 6.7378 - dense_11_acc: 0.0280 - dense_12_acc: 0.0072\n",
      "Epoch 7/20\n",
      " - 1276s - loss: 13.3434 - dense_11_loss: 6.6338 - dense_12_loss: 6.7097 - dense_11_acc: 0.0279 - dense_12_acc: 0.0073\n",
      "Epoch 8/20\n",
      " - 1273s - loss: 13.4126 - dense_11_loss: 6.6698 - dense_12_loss: 6.7428 - dense_11_acc: 0.0280 - dense_12_acc: 0.0074\n",
      "Epoch 9/20\n",
      " - 1278s - loss: 13.2525 - dense_11_loss: 6.5875 - dense_12_loss: 6.6649 - dense_11_acc: 0.0279 - dense_12_acc: 0.0073\n",
      "Epoch 10/20\n",
      " - 1280s - loss: 13.1746 - dense_11_loss: 6.5484 - dense_12_loss: 6.6262 - dense_11_acc: 0.0279 - dense_12_acc: 0.0074\n",
      "Epoch 11/20\n",
      " - 1278s - loss: 13.1293 - dense_11_loss: 6.5258 - dense_12_loss: 6.6035 - dense_11_acc: 0.0280 - dense_12_acc: 0.0073\n",
      "Epoch 12/20\n",
      " - 1274s - loss: 13.0817 - dense_11_loss: 6.5019 - dense_12_loss: 6.5798 - dense_11_acc: 0.0279 - dense_12_acc: 0.0073\n",
      "Epoch 13/20\n",
      " - 1271s - loss: 13.0660 - dense_11_loss: 6.4941 - dense_12_loss: 6.5719 - dense_11_acc: 0.0279 - dense_12_acc: 0.0074\n",
      "Epoch 14/20\n",
      " - 1272s - loss: 13.0565 - dense_11_loss: 6.4891 - dense_12_loss: 6.5674 - dense_11_acc: 0.0279 - dense_12_acc: 0.0073\n",
      "Epoch 15/20\n",
      " - 1271s - loss: 13.0590 - dense_11_loss: 6.4903 - dense_12_loss: 6.5687 - dense_11_acc: 0.0279 - dense_12_acc: 0.0075\n",
      "Epoch 16/20\n",
      " - 1270s - loss: 13.0932 - dense_11_loss: 6.5072 - dense_12_loss: 6.5859 - dense_11_acc: 0.0280 - dense_12_acc: 0.0072\n",
      "Epoch 17/20\n",
      " - 1270s - loss: 13.0581 - dense_11_loss: 6.4888 - dense_12_loss: 6.5692 - dense_11_acc: 0.0279 - dense_12_acc: 0.0074\n",
      "Epoch 18/20\n",
      " - 1271s - loss: 13.2416 - dense_11_loss: 6.5793 - dense_12_loss: 6.6623 - dense_11_acc: 0.0273 - dense_12_acc: 0.0058\n",
      "Epoch 19/20\n",
      " - 1272s - loss: 13.3036 - dense_11_loss: 6.6080 - dense_12_loss: 6.6957 - dense_11_acc: 0.0269 - dense_12_acc: 0.0052\n",
      "Epoch 20/20\n",
      " - 1271s - loss: 13.1096 - dense_11_loss: 6.5130 - dense_12_loss: 6.5965 - dense_11_acc: 0.0274 - dense_12_acc: 0.0073\n"
     ]
    }
   ],
   "source": [
    "model_history = model.fit([c_data[:train], qn_data[:train]],\n",
    "                        [begin_ans[:train], end_ans[:train]], verbose=2,\n",
    "                         batch_size=batch_size, epochs=20)"
   ]
  },
  {
   "cell_type": "code",
   "execution_count": 50,
   "metadata": {},
   "outputs": [],
   "source": [
    "t_context = h5py.File('context_test.h5','r')\n",
    "t_questions = h5py.File('questions_test.h5','r')\n",
    "t_answers = h5py.File('answers_test.h5','r')\n",
    "t_ans_begin = h5py.File('begin_test.h5','r')\n",
    "t_ans_end = h5py.File('end_test.h5','r')"
   ]
  },
  {
   "cell_type": "code",
   "execution_count": 51,
   "metadata": {},
   "outputs": [],
   "source": [
    "t_c_data = t_context['context'][:]\n",
    "t_qn_data = t_questions['questions'][:]\n",
    "t_ans_data = t_answers['answers'][:]\n",
    "t_begin_ans = t_ans_begin['begin'][:]\n",
    "t_end_ans = t_ans_end['end'][:]"
   ]
  },
  {
   "cell_type": "code",
   "execution_count": 52,
   "metadata": {},
   "outputs": [],
   "source": [
    "predictions = model.predict([t_c_data,t_qn_data], batch_size=128)"
   ]
  },
  {
   "cell_type": "code",
   "execution_count": 53,
   "metadata": {},
   "outputs": [
    {
     "name": "stdout",
     "output_type": "stream",
     "text": [
      "(20302, 3126) (20302, 3136)\n",
      "(20302, 3126) (20302, 3136)\n"
     ]
    }
   ],
   "source": [
    "print(predictions[0].shape, predictions[1].shape)\n",
    "print(predictions[0].shape, predictions[1].shape)"
   ]
  },
  {
   "cell_type": "code",
   "execution_count": 54,
   "metadata": {},
   "outputs": [],
   "source": [
    "ansBegin = np.zeros((predictions[0].shape[0],), dtype=np.int32)\n",
    "ansEnd = np.zeros((predictions[0].shape[0],),dtype=np.int32) "
   ]
  },
  {
   "cell_type": "code",
   "execution_count": 55,
   "metadata": {},
   "outputs": [
    {
     "name": "stdout",
     "output_type": "stream",
     "text": [
      "F1 Score\n"
     ]
    },
    {
     "data": {
      "text/plain": [
       "0.023002659836469312"
      ]
     },
     "execution_count": 55,
     "metadata": {},
     "output_type": "execute_result"
    }
   ],
   "source": [
    "f1_b = f1_score(t_begin_ans, ansBegin, average='micro')  \n",
    "f1_e = f1_score(t_end_ans, ansEnd, average='micro') \n",
    "print(\"F1 Score\")\n",
    "f1_b + f1_e"
   ]
  }
 ],
 "metadata": {
  "kernelspec": {
   "display_name": "conda_amazonei_mxnet_p27",
   "language": "python",
   "name": "conda_amazonei_mxnet_p27"
  },
  "language_info": {
   "codemirror_mode": {
    "name": "ipython",
    "version": 2
   },
   "file_extension": ".py",
   "mimetype": "text/x-python",
   "name": "python",
   "nbconvert_exporter": "python",
   "pygments_lexer": "ipython2",
   "version": "2.7.15"
  }
 },
 "nbformat": 4,
 "nbformat_minor": 2
}
