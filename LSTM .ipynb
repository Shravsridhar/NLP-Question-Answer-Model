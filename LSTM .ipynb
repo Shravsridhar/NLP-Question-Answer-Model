{
 "cells": [
  {
   "cell_type": "markdown",
   "metadata": {},
   "source": [
    "# LSTM MODEL"
   ]
  },
  {
   "cell_type": "code",
   "execution_count": 1,
   "metadata": {},
   "outputs": [
    {
     "name": "stderr",
     "output_type": "stream",
     "text": [
      "Using TensorFlow backend.\n"
     ]
    }
   ],
   "source": [
    "import json\n",
    "import numpy as np\n",
    "import re\n",
    "import io\n",
    "import nltk\n",
    "import h5py\n",
    "from keras import backend as K\n",
    "from keras.layers.embeddings import Embedding\n",
    "from keras.layers import Input, Dense, Dropout, RepeatVector, Activation, merge, Lambda, Flatten, Reshape\n",
    "from keras.layers import LSTM, Bidirectional, TimeDistributed, GRU\n",
    "from keras.models import Model\n",
    "from keras.preprocessing.sequence import pad_sequences\n",
    "from keras.models import Model\n",
    "from keras import optimizers\n",
    "from keras.optimizers import Adam, RMSprop\n",
    "from keras.layers import concatenate"
   ]
  },
  {
   "cell_type": "code",
   "execution_count": 2,
   "metadata": {},
   "outputs": [
    {
     "name": "stdout",
     "output_type": "stream",
     "text": [
      "Found 400000 word vectors.\n"
     ]
    }
   ],
   "source": [
    "embeddings_index = {}\n",
    "f = open( 'glove.6B.100d.txt',encoding=\"utf8\")\n",
    "for line in f:\n",
    "    values = line.split()\n",
    "    word = values[0]\n",
    "    coefs = np.asarray(values[1:], dtype='float32')\n",
    "    embeddings_index[word] = coefs\n",
    "f.close()\n",
    "\n",
    "print('Found %s word vectors.' % len(embeddings_index))"
   ]
  },
  {
   "cell_type": "code",
   "execution_count": 3,
   "metadata": {},
   "outputs": [],
   "source": [
    "context = h5py.File('context.h5','r')\n",
    "questions = h5py.File('questions.h5','r')\n",
    "answers = h5py.File('answers.h5','r')\n",
    "ans_begin = h5py.File('begin.h5','r')\n",
    "ans_end = h5py.File('end.h5','r')"
   ]
  },
  {
   "cell_type": "code",
   "execution_count": 4,
   "metadata": {},
   "outputs": [],
   "source": [
    "c_data = context['context'][:]\n",
    "qn_data = questions['questions'][:]\n",
    "ans_data = answers['answers'][:]"
   ]
  },
  {
   "cell_type": "code",
   "execution_count": 5,
   "metadata": {},
   "outputs": [],
   "source": [
    "begin_ans = ans_begin['begin'][:]\n",
    "end_ans = ans_end['end'][:]"
   ]
  },
  {
   "cell_type": "code",
   "execution_count": 6,
   "metadata": {},
   "outputs": [],
   "source": [
    "# loding vocabulary\n",
    "word_index = np.load('words.npy').item()"
   ]
  },
  {
   "cell_type": "code",
   "execution_count": 7,
   "metadata": {},
   "outputs": [],
   "source": [
    "embedding_matrix = np.zeros((len(word_index) + 1, 100))\n",
    "for word, i in word_index.items():\n",
    "    embedding_vector = embeddings_index.get(word)\n",
    "    if embedding_vector is not None:\n",
    "        # words not found in embedding index will be all-zeros.\n",
    "        embedding_matrix[i] = embedding_vector"
   ]
  },
  {
   "cell_type": "code",
   "execution_count": 8,
   "metadata": {},
   "outputs": [],
   "source": [
    "vocab_size = len(word_index) + 1\n",
    "#embedding_vector_length = 50\n",
    "batch = 128\n",
    "max_span_begin = np.amax(begin_ans)\n",
    "max_span_end = np.amax(end_ans)\n",
    "slce = 10000\n"
   ]
  },
  {
   "cell_type": "code",
   "execution_count": 9,
   "metadata": {},
   "outputs": [
    {
     "name": "stdout",
     "output_type": "stream",
     "text": [
      "Vocab Size\n"
     ]
    },
    {
     "data": {
      "text/plain": [
       "119616"
      ]
     },
     "execution_count": 9,
     "metadata": {},
     "output_type": "execute_result"
    }
   ],
   "source": [
    "print(\"Vocab Size\")\n",
    "vocab_size"
   ]
  },
  {
   "cell_type": "code",
   "execution_count": 11,
   "metadata": {},
   "outputs": [],
   "source": [
    "context_input = Input(shape=(700, ), dtype='int32', name='c_data')\n",
    "context_embed = Embedding(input_dim=vocab_size, output_dim=100, weights=[embedding_matrix], \n",
    "              input_length=700, trainable=False)(context_input)\n",
    "#lstm_out = (LSTM(256, return_sequences=True, implementation=2))(x)\n",
    "drop_1 = Dropout(0.5)(context_embed)\n",
    "#drop_1 = Dropout(0.5)(lstm_out)"
   ]
  },
  {
   "cell_type": "code",
   "execution_count": 12,
   "metadata": {},
   "outputs": [],
   "source": [
    "ques_input = Input(shape=(100, ), dtype='int32', name='qn_data')\n",
    "question_embed = Embedding(input_dim=vocab_size, output_dim=100, weights=[embedding_matrix], \n",
    "              input_length=100, trainable=False)(ques_input)\n",
    "#lstm_out = (LSTM(256, return_sequences=True, implementation=2))(x)\n",
    "drop_2 = Dropout(0.5)(question_embed)\n",
    "#drop_2 = Dropout(0.5)(lstm_out)"
   ]
  },
  {
   "cell_type": "code",
   "execution_count": 13,
   "metadata": {},
   "outputs": [
    {
     "name": "stdout",
     "output_type": "stream",
     "text": [
      "__________________________________________________________________________________________________\n",
      "Layer (type)                    Output Shape         Param #     Connected to                     \n",
      "==================================================================================================\n",
      "c_data (InputLayer)             (None, 700)          0                                            \n",
      "__________________________________________________________________________________________________\n",
      "qn_data (InputLayer)            (None, 100)          0                                            \n",
      "__________________________________________________________________________________________________\n",
      "embedding_2 (Embedding)         (None, 700, 100)     11961600    c_data[0][0]                     \n",
      "__________________________________________________________________________________________________\n",
      "embedding_3 (Embedding)         (None, 100, 100)     11961600    qn_data[0][0]                    \n",
      "__________________________________________________________________________________________________\n",
      "dropout_1 (Dropout)             (None, 700, 100)     0           embedding_2[0][0]                \n",
      "__________________________________________________________________________________________________\n",
      "dropout_2 (Dropout)             (None, 100, 100)     0           embedding_3[0][0]                \n",
      "__________________________________________________________________________________________________\n",
      "concatenate_1 (Concatenate)     (None, 800, 100)     0           dropout_1[0][0]                  \n",
      "                                                                 dropout_2[0][0]                  \n",
      "__________________________________________________________________________________________________\n",
      "lstm_1 (LSTM)                   (None, 512)          1255424     concatenate_1[0][0]              \n",
      "__________________________________________________________________________________________________\n",
      "dense_1 (Dense)                 (None, 3126)         1603638     lstm_1[0][0]                     \n",
      "__________________________________________________________________________________________________\n",
      "dense_2 (Dense)                 (None, 3136)         1608768     lstm_1[0][0]                     \n",
      "==================================================================================================\n",
      "Total params: 28,391,030\n",
      "Trainable params: 4,467,830\n",
      "Non-trainable params: 23,923,200\n",
      "__________________________________________________________________________________________________\n"
     ]
    }
   ],
   "source": [
    "merge_layer = concatenate([drop_1, drop_2], axis=1)\n",
    "lstm_layer = (LSTM(512, implementation=2))(merge_layer)\n",
    "drop_3 =  Dropout(0.5)(lstm_layer)\n",
    "softmax_1 = Dense(max_span_begin, activation='softmax')(lstm_layer)\n",
    "softmax_2 = Dense(max_span_end, activation='softmax')(lstm_layer)\n",
    "model = Model(inputs=[context_input, ques_input], outputs=[softmax_1, softmax_2])\n",
    "model.compile(optimizer='adam', loss='sparse_categorical_crossentropy', metrics=['accuracy'])\n",
    "model.summary()\n"
   ]
  },
  {
   "cell_type": "code",
   "execution_count": 14,
   "metadata": {},
   "outputs": [
    {
     "name": "stdout",
     "output_type": "stream",
     "text": [
      "Epoch 1/10\n",
      " - 4212s - loss: 14.0835 - dense_1_loss: 7.0029 - dense_2_loss: 7.0806 - dense_1_acc: 0.0272 - dense_2_acc: 0.0045\n",
      "Epoch 2/10\n",
      " - 3066s - loss: 13.2727 - dense_1_loss: 6.5953 - dense_2_loss: 6.6774 - dense_1_acc: 0.0279 - dense_2_acc: 0.0055\n",
      "Epoch 3/10\n",
      " - 2787s - loss: 13.2328 - dense_1_loss: 6.5770 - dense_2_loss: 6.6557 - dense_1_acc: 0.0279 - dense_2_acc: 0.0064\n",
      "Epoch 4/10\n",
      " - 2660s - loss: 13.2182 - dense_1_loss: 6.5696 - dense_2_loss: 6.6486 - dense_1_acc: 0.0279 - dense_2_acc: 0.0062\n",
      "Epoch 5/10\n",
      " - 2697s - loss: 13.2027 - dense_1_loss: 6.5616 - dense_2_loss: 6.6410 - dense_1_acc: 0.0279 - dense_2_acc: 0.0066\n",
      "Epoch 6/10\n",
      " - 2669s - loss: 13.1863 - dense_1_loss: 6.5533 - dense_2_loss: 6.6330 - dense_1_acc: 0.0279 - dense_2_acc: 0.0068\n",
      "Epoch 7/10\n",
      " - 2668s - loss: 13.1771 - dense_1_loss: 6.5484 - dense_2_loss: 6.6287 - dense_1_acc: 0.0279 - dense_2_acc: 0.0071\n",
      "Epoch 8/10\n",
      " - 2770s - loss: 13.1697 - dense_1_loss: 6.5452 - dense_2_loss: 6.6246 - dense_1_acc: 0.0279 - dense_2_acc: 0.0071\n",
      "Epoch 9/10\n",
      " - 2680s - loss: 13.1609 - dense_1_loss: 6.5409 - dense_2_loss: 6.6201 - dense_1_acc: 0.0279 - dense_2_acc: 0.0071\n",
      "Epoch 10/10\n",
      " - 2682s - loss: 13.1526 - dense_1_loss: 6.5370 - dense_2_loss: 6.6156 - dense_1_acc: 0.0279 - dense_2_acc: 0.0071\n"
     ]
    }
   ],
   "source": [
    "model_history = model.fit([c_data[:slce], qn_data[:slce]],\n",
    "                        [begin_ans[:slce], end_ans[:slce]], verbose=2,\n",
    "                         batch_size=batch, epochs=10)"
   ]
  },
  {
   "cell_type": "markdown",
   "metadata": {},
   "source": [
    "# PREDICTIONS USING TEST DATA"
   ]
  },
  {
   "cell_type": "code",
   "execution_count": 28,
   "metadata": {},
   "outputs": [],
   "source": [
    "t_context = h5py.File('context_test.h5','r')\n",
    "t_questions = h5py.File('questions_test.h5','r')\n",
    "t_answers = h5py.File('answers_test.h5','r')\n",
    "t_ans_begin = h5py.File('begin_test.h5','r')\n",
    "t_ans_end = h5py.File('end_test.h5','r')"
   ]
  },
  {
   "cell_type": "code",
   "execution_count": 16,
   "metadata": {},
   "outputs": [],
   "source": [
    "t_c_data = t_context['context'][:]\n",
    "t_qn_data = t_questions['questions'][:]\n",
    "t_ans_data = t_answers['answers'][:]\n",
    "t_begin_ans = t_ans_begin['begin'][:]\n",
    "t_end_ans = t_ans_end['end'][:]"
   ]
  },
  {
   "cell_type": "code",
   "execution_count": 29,
   "metadata": {},
   "outputs": [],
   "source": [
    "index_train = np.load('indxes.npy')\n",
    "index_test = np.load('indxes_test.npy')"
   ]
  },
  {
   "cell_type": "code",
   "execution_count": 17,
   "metadata": {},
   "outputs": [],
   "source": [
    "predictions = model.predict([t_c_data,t_qn_data], batch_size=128)"
   ]
  },
  {
   "cell_type": "code",
   "execution_count": 18,
   "metadata": {},
   "outputs": [
    {
     "name": "stdout",
     "output_type": "stream",
     "text": [
      "(20302, 3126) (20302, 3136)\n"
     ]
    }
   ],
   "source": [
    "print(predictions[0].shape, predictions[1].shape)"
   ]
  },
  {
   "cell_type": "code",
   "execution_count": 20,
   "metadata": {},
   "outputs": [],
   "source": [
    "ansBegin = np.zeros((predictions[0].shape[0],), dtype=np.int32)\n",
    "ansEnd = np.zeros((predictions[0].shape[0],),dtype=np.int32) "
   ]
  },
  {
   "cell_type": "code",
   "execution_count": 22,
   "metadata": {},
   "outputs": [
    {
     "name": "stdout",
     "output_type": "stream",
     "text": [
      "0 1614 7 2106\n"
     ]
    }
   ],
   "source": [
    "for i in range(predictions[0].shape[0]):\n",
    "\tansBegin[i] = predictions[0][i, :].argmax()\n",
    "\tansEnd[i] = predictions[1][i, :].argmax()\n",
    "print(ansBegin.min(), ansBegin.max(), ansEnd.min(), ansEnd.max())"
   ]
  }
 ],
 "metadata": {
  "kernelspec": {
   "display_name": "conda_amazonei_mxnet_p27",
   "language": "python",
   "name": "conda_amazonei_mxnet_p27"
  },
  "language_info": {
   "codemirror_mode": {
    "name": "ipython",
    "version": 2
   },
   "file_extension": ".py",
   "mimetype": "text/x-python",
   "name": "python",
   "nbconvert_exporter": "python",
   "pygments_lexer": "ipython2",
   "version": "2.7.15"
  }
 },
 "nbformat": 4,
 "nbformat_minor": 2
}
