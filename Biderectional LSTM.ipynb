{
 "cells": [
  {
   "cell_type": "markdown",
   "metadata": {},
   "source": [
    "# Biredctional LSTM"
   ]
  },
  {
   "cell_type": "code",
   "execution_count": null,
   "metadata": {},
   "outputs": [],
   "source": [
    "import json\n",
    "import numpy as np\n",
    "import re\n",
    "import io\n",
    "import nltk\n",
    "import h5py\n",
    "import keras as k\n",
    "from keras.layers.embeddings import Embedding\n",
    "from keras.layers import Input, Dense, Dropout, RepeatVector, Activation, merge, Lambda, Flatten, Reshape\n",
    "from keras.layers import LSTM, Bidirectional, TimeDistributed, GRU\n",
    "from keras.models import Model\n",
    "from keras.preprocessing.sequence import pad_sequences\n",
    "from keras.models import Model\n",
    "from keras import optimizers\n",
    "from keras.optimizers import Adam, RMSprop\n",
    "from keras.callbacks import ModelCheckpoint, EarlyStopping\n",
    "from keras.layers import concatenate\n",
    "from sklearn.metrics import f1_score"
   ]
  },
  {
   "cell_type": "markdown",
   "metadata": {},
   "source": [
    "CREATING EMBEDING LAYER WITH HELP OF WORD EMBEDDINGS: GLOVE"
   ]
  },
  {
   "cell_type": "code",
   "execution_count": 4,
   "metadata": {},
   "outputs": [
    {
     "name": "stdout",
     "output_type": "stream",
     "text": [
      "Found 400000 word vectors.\n"
     ]
    }
   ],
   "source": [
    "embeddings_index = {}\n",
    "f = open( 'glove.6B.100d.txt',encoding=\"utf8\")\n",
    "for line in f:\n",
    "    values = line.split()\n",
    "    word = values[0]\n",
    "    coefs = np.asarray(values[1:], dtype='float32')\n",
    "    embeddings_index[word] = coefs\n",
    "f.close()\n",
    "\n",
    "print('Found %s word vectors.' % len(embeddings_index))"
   ]
  },
  {
   "cell_type": "markdown",
   "metadata": {},
   "source": [
    "IMPORT VECTORIZED FILES FOR CONTEXT, QUESTIONS, ANSWERS POST PREPROCESS OF DATA"
   ]
  },
  {
   "cell_type": "code",
   "execution_count": 5,
   "metadata": {},
   "outputs": [],
   "source": [
    "context = h5py.File('context.h5','r')\n",
    "questions = h5py.File('questions.h5','r')\n",
    "answers = h5py.File('answers.h5','r')\n",
    "ans_begin = h5py.File('begin.h5','r')\n",
    "ans_end = h5py.File('end.h5','r')"
   ]
  },
  {
   "cell_type": "code",
   "execution_count": 6,
   "metadata": {},
   "outputs": [],
   "source": [
    "c_data = context['context'][:]\n",
    "qn_data = questions['questions'][:]\n",
    "ans_data = answers['answers'][:]"
   ]
  },
  {
   "cell_type": "code",
   "execution_count": 7,
   "metadata": {},
   "outputs": [],
   "source": [
    "begin_ans = ans_begin['begin'][:]\n",
    "end_ans = ans_end['end'][:]"
   ]
  },
  {
   "cell_type": "code",
   "execution_count": 8,
   "metadata": {},
   "outputs": [],
   "source": [
    "# loding vocabulary\n",
    "word_index = np.load('words.npy').item()"
   ]
  },
  {
   "cell_type": "code",
   "execution_count": 9,
   "metadata": {},
   "outputs": [],
   "source": [
    "embedding_matrix = np.zeros((len(word_index) + 1, 100))\n",
    "for word, i in word_index.items():\n",
    "    embedding_vector = embeddings_index.get(word)\n",
    "    if embedding_vector is not None:\n",
    "        # words not found in embedding index will be all-zeros.\n",
    "        embedding_matrix[i] = embedding_vector"
   ]
  },
  {
   "cell_type": "code",
   "execution_count": 10,
   "metadata": {},
   "outputs": [],
   "source": [
    "vocab_size = len(word_index) + 1\n",
    "#embedding_vector_length = 50\n",
    "batch = 64\n",
    "max_span_begin = np.amax(begin_ans)\n",
    "max_span_end = np.amax(end_ans)\n",
    "slce = 10000\n"
   ]
  },
  {
   "cell_type": "code",
   "execution_count": 11,
   "metadata": {},
   "outputs": [
    {
     "name": "stdout",
     "output_type": "stream",
     "text": [
      "Vocab Size\n"
     ]
    },
    {
     "data": {
      "text/plain": [
       "119616"
      ]
     },
     "execution_count": 11,
     "metadata": {},
     "output_type": "execute_result"
    }
   ],
   "source": [
    "print(\"Vocab Size\")\n",
    "vocab_size"
   ]
  },
  {
   "cell_type": "markdown",
   "metadata": {},
   "source": [
    "MODEL CREATION"
   ]
  },
  {
   "cell_type": "code",
   "execution_count": 12,
   "metadata": {},
   "outputs": [],
   "source": [
    "context_input = Input(shape=(700, ), dtype='int32', name='c_data')\n",
    "x = Embedding(input_dim=vocab_size, output_dim=100, weights=[embedding_matrix], \n",
    "              input_length=700, trainable=False)(context_input)\n",
    "lstm_out = Bidirectional(LSTM(256, return_sequences=True, implementation=2), merge_mode='concat')(x)\n",
    "drop_1 = Dropout(0.5)(lstm_out)"
   ]
  },
  {
   "cell_type": "code",
   "execution_count": 13,
   "metadata": {},
   "outputs": [],
   "source": [
    "ques_input = Input(shape=(100, ), dtype='int32', name='qn_data')\n",
    "x = Embedding(input_dim=vocab_size, output_dim=100, weights=[embedding_matrix], \n",
    "              input_length=100, trainable=False)(ques_input)\n",
    "lstm_out = Bidirectional(LSTM(256, return_sequences=True, implementation=2), merge_mode='concat')(x)\n",
    "drop_2 = Dropout(0.5)(lstm_out)"
   ]
  },
  {
   "cell_type": "code",
   "execution_count": 14,
   "metadata": {},
   "outputs": [
    {
     "name": "stdout",
     "output_type": "stream",
     "text": [
      "__________________________________________________________________________________________________\n",
      "Layer (type)                    Output Shape         Param #     Connected to                     \n",
      "==================================================================================================\n",
      "c_data (InputLayer)             (None, 700)          0                                            \n",
      "__________________________________________________________________________________________________\n",
      "qn_data (InputLayer)            (None, 100)          0                                            \n",
      "__________________________________________________________________________________________________\n",
      "embedding_1 (Embedding)         (None, 700, 100)     11961600    c_data[0][0]                     \n",
      "__________________________________________________________________________________________________\n",
      "embedding_2 (Embedding)         (None, 100, 100)     11961600    qn_data[0][0]                    \n",
      "__________________________________________________________________________________________________\n",
      "bidirectional_1 (Bidirectional) (None, 700, 512)     731136      embedding_1[0][0]                \n",
      "__________________________________________________________________________________________________\n",
      "bidirectional_2 (Bidirectional) (None, 100, 512)     731136      embedding_2[0][0]                \n",
      "__________________________________________________________________________________________________\n",
      "dropout_1 (Dropout)             (None, 700, 512)     0           bidirectional_1[0][0]            \n",
      "__________________________________________________________________________________________________\n",
      "dropout_2 (Dropout)             (None, 100, 512)     0           bidirectional_2[0][0]            \n",
      "__________________________________________________________________________________________________\n",
      "concatenate_1 (Concatenate)     (None, 800, 512)     0           dropout_1[0][0]                  \n",
      "                                                                 dropout_2[0][0]                  \n",
      "__________________________________________________________________________________________________\n",
      "bidirectional_3 (Bidirectional) (None, 512)          4198400     concatenate_1[0][0]              \n",
      "__________________________________________________________________________________________________\n",
      "dense_1 (Dense)                 (None, 3126)         1603638     bidirectional_3[0][0]            \n",
      "__________________________________________________________________________________________________\n",
      "dense_2 (Dense)                 (None, 3136)         1608768     bidirectional_3[0][0]            \n",
      "==================================================================================================\n",
      "Total params: 32,796,278\n",
      "Trainable params: 8,873,078\n",
      "Non-trainable params: 23,923,200\n",
      "__________________________________________________________________________________________________\n"
     ]
    }
   ],
   "source": [
    "merge_layer = concatenate([drop_1, drop_2], axis=1)\n",
    "biLSTM = Bidirectional(LSTM(512, implementation=2), merge_mode='mul')(merge_layer)\n",
    "drop_3 =  Dropout(0.5)(biLSTM)\n",
    "softmax_1 = Dense(max_span_begin, activation='softmax')(biLSTM)\n",
    "softmax_2 = Dense(max_span_end, activation='softmax')(biLSTM)\n",
    "model = Model(inputs=[context_input, ques_input], outputs=[softmax_1, softmax_2])\n",
    "model.compile(optimizer='adam', loss='sparse_categorical_crossentropy', metrics=['accuracy'])\n",
    "model.summary()\n"
   ]
  },
  {
   "cell_type": "code",
   "execution_count": 15,
   "metadata": {},
   "outputs": [
    {
     "name": "stdout",
     "output_type": "stream",
     "text": [
      "Epoch 1/10\n",
      " - 745s - loss: 14.0046 - dense_1_loss: 6.9654 - dense_2_loss: 7.0393 - dense_1_acc: 0.0268 - dense_2_acc: 0.0043\n",
      "Epoch 2/10\n",
      " - 720s - loss: 13.2295 - dense_1_loss: 6.5742 - dense_2_loss: 6.6554 - dense_1_acc: 0.0279 - dense_2_acc: 0.0071\n",
      "Epoch 3/10\n",
      " - 713s - loss: 13.1647 - dense_1_loss: 6.5377 - dense_2_loss: 6.6270 - dense_1_acc: 0.0298 - dense_2_acc: 0.0067\n",
      "Epoch 4/10\n",
      " - 712s - loss: 13.0802 - dense_1_loss: 6.4917 - dense_2_loss: 6.5885 - dense_1_acc: 0.0375 - dense_2_acc: 0.0075\n",
      "Epoch 5/10\n",
      " - 713s - loss: 12.9418 - dense_1_loss: 6.4181 - dense_2_loss: 6.5237 - dense_1_acc: 0.0390 - dense_2_acc: 0.0102\n",
      "Epoch 6/10\n",
      " - 712s - loss: 12.8121 - dense_1_loss: 6.3521 - dense_2_loss: 6.4599 - dense_1_acc: 0.0395 - dense_2_acc: 0.0104\n",
      "Epoch 7/10\n",
      " - 712s - loss: 12.6831 - dense_1_loss: 6.2867 - dense_2_loss: 6.3963 - dense_1_acc: 0.0407 - dense_2_acc: 0.0123\n",
      "Epoch 8/10\n",
      " - 712s - loss: 12.5055 - dense_1_loss: 6.1994 - dense_2_loss: 6.3061 - dense_1_acc: 0.0385 - dense_2_acc: 0.0139\n",
      "Epoch 9/10\n",
      " - 713s - loss: 12.3183 - dense_1_loss: 6.1043 - dense_2_loss: 6.2139 - dense_1_acc: 0.0391 - dense_2_acc: 0.0156\n",
      "Epoch 10/10\n",
      " - 712s - loss: 12.1338 - dense_1_loss: 6.0124 - dense_2_loss: 6.1214 - dense_1_acc: 0.0416 - dense_2_acc: 0.0186\n"
     ]
    }
   ],
   "source": [
    "model_history = model.fit([c_data[:slce], qn_data[:slce]],\n",
    "                        [begin_ans[:slce], end_ans[:slce]], verbose=2,\n",
    "                         batch_size=batch, epochs=10)"
   ]
  },
  {
   "cell_type": "markdown",
   "metadata": {},
   "source": [
    "IMPORT VALIDATION DATA POST PREPROCESSING FOR TESTING"
   ]
  },
  {
   "cell_type": "code",
   "execution_count": 34,
   "metadata": {},
   "outputs": [],
   "source": [
    "t_context = h5py.File('context_test.h5','r')\n",
    "t_questions = h5py.File('questions_test.h5','r')\n",
    "t_answers = h5py.File('answers_test.h5','r')\n",
    "t_ans_begin = h5py.File('begin_test.h5','r')\n",
    "t_ans_end = h5py.File('end_test.h5','r')"
   ]
  },
  {
   "cell_type": "code",
   "execution_count": 40,
   "metadata": {},
   "outputs": [],
   "source": [
    "t_c_data = t_context['context'][:]\n",
    "t_qn_data = t_questions['questions'][:]\n",
    "t_ans_data = t_answers['answers'][:]\n",
    "t_begin_ans = t_ans_begin['begin'][:]\n",
    "t_end_ans = t_ans_end['end'][:]"
   ]
  },
  {
   "cell_type": "code",
   "execution_count": 18,
   "metadata": {},
   "outputs": [],
   "source": [
    "predictions = model.predict([t_c_data,t_qn_data], batch_size=128)"
   ]
  },
  {
   "cell_type": "code",
   "execution_count": 19,
   "metadata": {},
   "outputs": [
    {
     "name": "stdout",
     "output_type": "stream",
     "text": [
      "(20302, 3126) (20302, 3136)\n"
     ]
    }
   ],
   "source": [
    "print(predictions[0].shape, predictions[1].shape)"
   ]
  },
  {
   "cell_type": "markdown",
   "metadata": {},
   "source": [
    "MODEL PERFORMANCE EVALUATION:\n",
    "    METRICS USED:\n",
    "        1. F1 SCORE\n",
    "        2. EXACT MATCH SCORE"
   ]
  },
  {
   "cell_type": "code",
   "execution_count": 20,
   "metadata": {},
   "outputs": [],
   "source": [
    "ansBegin = np.zeros((predictions[0].shape[0],), dtype=np.int32)\n",
    "ansEnd = np.zeros((predictions[0].shape[0],),dtype=np.int32) "
   ]
  },
  {
   "cell_type": "code",
   "execution_count": 21,
   "metadata": {},
   "outputs": [
    {
     "name": "stdout",
     "output_type": "stream",
     "text": [
      "0 560 7 779\n"
     ]
    }
   ],
   "source": [
    "for i in range(predictions[0].shape[0]):\n",
    "\tansBegin[i] = predictions[0][i, :].argmax()\n",
    "\tansEnd[i] = predictions[1][i, :].argmax()\n",
    "print(ansBegin.min(), ansBegin.max(), ansEnd.min(), ansEnd.max())"
   ]
  },
  {
   "cell_type": "markdown",
   "metadata": {},
   "source": [
    "F1 Score: The F1 score can be interpreted as a weighted average of the precision and recall, where an F1 score reaches its best value at 1 and worst score at 0"
   ]
  },
  {
   "cell_type": "code",
   "execution_count": 63,
   "metadata": {},
   "outputs": [],
   "source": [
    "f1_b = f1_score(t_begin_ans, ansBegin, average='micro')  "
   ]
  },
  {
   "cell_type": "code",
   "execution_count": 64,
   "metadata": {},
   "outputs": [],
   "source": [
    "f1_e = f1_score(t_end_ans, ansEnd, average='micro') "
   ]
  },
  {
   "cell_type": "code",
   "execution_count": 66,
   "metadata": {},
   "outputs": [
    {
     "name": "stdout",
     "output_type": "stream",
     "text": [
      "F1 Score\n"
     ]
    },
    {
     "data": {
      "text/plain": [
       "0.018421830361540735"
      ]
     },
     "execution_count": 66,
     "metadata": {},
     "output_type": "execute_result"
    }
   ],
   "source": [
    "print(\"F1 Score\")\n",
    "f1_b + f1_e"
   ]
  },
  {
   "cell_type": "markdown",
   "metadata": {},
   "source": [
    "Exact Match Score: One way of calculating it is through Accuracy classification score.\n",
    "It computes subset accuracy: the set of answers predicted for a sample data must exactly match the corresponding set of labels in true answers."
   ]
  },
  {
   "cell_type": "code",
   "execution_count": 69,
   "metadata": {},
   "outputs": [],
   "source": [
    "em_b = accuracy_score(t_begin_ans, ansBegin)"
   ]
  },
  {
   "cell_type": "code",
   "execution_count": 70,
   "metadata": {},
   "outputs": [],
   "source": [
    "em_e = accuracy_score(t_end_ans, ansEnd)"
   ]
  },
  {
   "cell_type": "code",
   "execution_count": 71,
   "metadata": {},
   "outputs": [
    {
     "name": "stdout",
     "output_type": "stream",
     "text": [
      "Exact Match Score\n"
     ]
    },
    {
     "data": {
      "text/plain": [
       "0.018421830361540735"
      ]
     },
     "execution_count": 71,
     "metadata": {},
     "output_type": "execute_result"
    }
   ],
   "source": [
    "print(\"Exact Match Score\")\n",
    "em_b + em_e"
   ]
  }
 ],
 "metadata": {
  "kernelspec": {
   "display_name": "Python 3.5",
   "language": "python",
   "name": "python3"
  },
  "language_info": {
   "codemirror_mode": {
    "name": "ipython",
    "version": 3
   },
   "file_extension": ".py",
   "mimetype": "text/x-python",
   "name": "python",
   "nbconvert_exporter": "python",
   "pygments_lexer": "ipython3",
   "version": "3.5.5"
  }
 },
 "nbformat": 4,
 "nbformat_minor": 2
}
