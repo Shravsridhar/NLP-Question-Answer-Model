{
 "cells": [
  {
   "cell_type": "markdown",
   "metadata": {},
   "source": [
    "# TEST SAMPLE FOR FINAL BOT BUILT"
   ]
  },
  {
   "cell_type": "code",
   "execution_count": 19,
   "metadata": {},
   "outputs": [],
   "source": [
    "import utils\n",
    "import numpy as np\n",
    "import io\n",
    "import string\n",
    "import argparse\n",
    "from collections import Counter\n",
    "import re\n",
    "import json\n",
    "import sys"
   ]
  },
  {
   "cell_type": "markdown",
   "metadata": {},
   "source": [
    "# Import required datasets for testing"
   ]
  },
  {
   "cell_type": "code",
   "execution_count": 38,
   "metadata": {},
   "outputs": [],
   "source": [
    "tContext, tQuestion, tQuestion_id, tAnswerBegin, tAnswerEnd, tAnswerText, maxLenTContext, maxLenTQuestion = splitDatasets(trainData)"
   ]
  },
  {
   "cell_type": "code",
   "execution_count": 39,
   "metadata": {},
   "outputs": [],
   "source": [
    "with open('dev-v2.0.json') as json_data:\n",
    "    d = json.load(json_data)\n",
    "valData = d['data']"
   ]
  },
  {
   "cell_type": "code",
   "execution_count": 42,
   "metadata": {},
   "outputs": [],
   "source": [
    "te_Context, te_Question, te_Question_id, te_AnswerBegin, te_AnswerEnd, te_AnswerText, te_maxLenTContext, te_maxLenTQuestion = splitDatasets(valData)"
   ]
  },
  {
   "cell_type": "code",
   "execution_count": 45,
   "metadata": {},
   "outputs": [],
   "source": [
    "vContext, vToken2CharIdx, vContextOriginal, vQuestion, vQuestion_id, maxLenVContext, maxLenVQuestion = splitValDatasets(valData)"
   ]
  },
  {
   "cell_type": "markdown",
   "metadata": {},
   "source": [
    "Vectorize train and datasets"
   ]
  },
  {
   "cell_type": "code",
   "execution_count": 54,
   "metadata": {},
   "outputs": [],
   "source": [
    "vX, vXq, vYBegin, vYEnd = vectorizeData(te_Context, te_Question, te_AnswerBegin, te_AnswerEnd, word_index, context_maxlen, question_maxlen)\n"
   ]
  },
  {
   "cell_type": "markdown",
   "metadata": {},
   "source": [
    "# Load saved model"
   ]
  },
  {
   "cell_type": "code",
   "execution_count": null,
   "metadata": {},
   "outputs": [],
   "source": [
    "model.load_weights('model_final.h5')"
   ]
  },
  {
   "cell_type": "markdown",
   "metadata": {},
   "source": [
    "Predictions with test data"
   ]
  },
  {
   "cell_type": "code",
   "execution_count": 67,
   "metadata": {},
   "outputs": [
    {
     "name": "stdout",
     "output_type": "stream",
     "text": [
      "(20302, 766) (20302, 766)\n"
     ]
    }
   ],
   "source": [
    "predictions = model.predict([vX, vXq], batch_size=128)\n",
    "print(predictions[0].shape, predictions[1].shape)"
   ]
  },
  {
   "cell_type": "markdown",
   "metadata": {},
   "source": [
    "Answer Tokens are extracted with answer begin, end and joint "
   ]
  },
  {
   "cell_type": "code",
   "execution_count": 68,
   "metadata": {},
   "outputs": [
    {
     "name": "stdout",
     "output_type": "stream",
     "text": [
      "0 282 0 284\n"
     ]
    }
   ],
   "source": [
    "ansBegin = np.zeros((predictions[0].shape[0],), dtype=np.int32)\n",
    "ansEnd = np.zeros((predictions[0].shape[0],),dtype=np.int32) \n",
    "for i in range(predictions[0].shape[0]):\n",
    "\tansBegin[i] = predictions[0][i, :].argmax()\n",
    "\tansEnd[i] = predictions[1][i, :].argmax()\n",
    "print(ansBegin.min(), ansBegin.max(), ansEnd.min(), ansEnd.max())\n",
    "answers = {}\n",
    "for i in range(len(vQuestion_id)):\n",
    "    if ansBegin[i] >= len(vContext[i]):\n",
    "        answers[vQuestion_id[i]] = \"\"\n",
    "    elif ansEnd[i] >= len(vContext[i]):\n",
    "        answers[vQuestion_id[i]] = vContextOriginal[i][vToken2CharIdx[i][ansBegin[i]]:]\n",
    "    else:\n",
    "        answers[vQuestion_id[i]] = vContextOriginal[i][vToken2CharIdx[i][ansBegin[i]]:vToken2CharIdx[i][ansEnd[i]]+len(vContext[i][ansEnd[i]])]"
   ]
  },
  {
   "cell_type": "code",
   "execution_count": 192,
   "metadata": {},
   "outputs": [],
   "source": [
    "with io.open('answers_final.json', 'w', encoding='utf-8') as f:\n",
    "    f.write((json.dumps(answers, ensure_ascii=False)))"
   ]
  },
  {
   "cell_type": "markdown",
   "metadata": {},
   "source": [
    "# TESTING MODEL"
   ]
  },
  {
   "cell_type": "code",
   "execution_count": 69,
   "metadata": {},
   "outputs": [],
   "source": [
    "def chatbot(number):\n",
    "    Q = te_Question[number]\n",
    "    C = (list(te_Context[number]))\n",
    "    qid = te_Question_id[number]\n",
    "    for id,ans in answers.items():   \n",
    "        if id == qid:\n",
    "            A= (ans)\n",
    "    return Q,C,A\n",
    "    "
   ]
  },
  {
   "cell_type": "code",
   "execution_count": 126,
   "metadata": {},
   "outputs": [],
   "source": [
    "def print_ans(Q,C,A):\n",
    "    print(\"Question\")\n",
    "    print(' '.join(Q))\n",
    "    print('')\n",
    "    print('')\n",
    "    print(\"Context\")\n",
    "    print( ' '.join(C))\n",
    "    print('')\n",
    "    print('')\n",
    "    print(\"Answer\")\n",
    "    print(A)       "
   ]
  },
  {
   "cell_type": "markdown",
   "metadata": {},
   "source": [
    "Example 1"
   ]
  },
  {
   "cell_type": "code",
   "execution_count": 128,
   "metadata": {},
   "outputs": [
    {
     "name": "stdout",
     "output_type": "stream",
     "text": [
      "Question\n",
      "from which countries did the norse originate ?\n",
      "\n",
      "\n",
      "Context\n",
      "the normans ( norman : nourmands ; french : normands ; latin : normanni ) were the people who in the 10th and 11th centuries gave their name to normandy , a region in france . they were descended from norse ( \" norman \" comes from \" norseman \" ) raiders and pirates from denmark , iceland and norway who , under their leader rollo , agreed to swear fealty to king charles iii of west francia . through generations of assimilation and mixing with the native frankish and roman-gaulish populations , their descendants would gradually merge with the carolingian-based cultures of west francia . the distinct cultural and ethnic identity of the normans emerged initially in the first half of the 10th century , and it continued to evolve over the succeeding centuries .\n",
      "\n",
      "\n",
      "Answer\n",
      "Normandy, a region in France.\n"
     ]
    }
   ],
   "source": [
    "Q,C,A = chatbot(11)\n",
    "print_ans(Q,C,A)"
   ]
  },
  {
   "cell_type": "markdown",
   "metadata": {},
   "source": [
    "Example 2"
   ]
  },
  {
   "cell_type": "code",
   "execution_count": 129,
   "metadata": {},
   "outputs": [
    {
     "name": "stdout",
     "output_type": "stream",
     "text": [
      "Question\n",
      "what field of computer science analyzes the resource requirements of a specific algorithm isolated unto itself within a given problem ?\n",
      "\n",
      "\n",
      "Context\n",
      "closely related fields in theoretical computer science are analysis of algorithms and computability theory . a key distinction between analysis of algorithms and computational complexity theory is that the former is devoted to analyzing the amount of resources needed by a particular algorithm to solve a problem , whereas the latter asks a more general question about all possible algorithms that could be used to solve the same problem . more precisely , it tries to classify problems that can or can not be solved with appropriately restricted resources . in turn , imposing restrictions on the available resources is what distinguishes computational complexity from computability theory : the latter theory asks what kind of problems can , in principle , be solved algorithmically .\n",
      "\n",
      "\n",
      "Answer\n",
      "theory. A key\n"
     ]
    }
   ],
   "source": [
    "Q,C,A = chatbot(321)\n",
    "print_ans(Q,C,A)"
   ]
  },
  {
   "cell_type": "markdown",
   "metadata": {},
   "source": [
    "Example 3"
   ]
  },
  {
   "cell_type": "code",
   "execution_count": 130,
   "metadata": {},
   "outputs": [
    {
     "name": "stdout",
     "output_type": "stream",
     "text": [
      "Question\n",
      "what is the term for a mathematical model that theoretically represents a general computing machine ?\n",
      "\n",
      "\n",
      "Context\n",
      "a turing machine is a mathematical model of a general computing machine . it is a theoretical device that manipulates symbols contained on a strip of tape . turing machines are not intended as a practical computing technology , but rather as a thought experiment representing a computing machine—anything from an advanced supercomputer to a mathematician with a pencil and paper . it is believed that if a problem can be solved by an algorithm , there exists a turing machine that solves the problem . indeed , this is the statement of the church–turing thesis . furthermore , it is known that everything that can be computed on other models of computation known to us today , such as a ram machine , conway 's game of life , cellular automata or any programming language can be computed on a turing machine . since turing machines are easy to analyze mathematically , and are believed to be as powerful as any other model of computation , the turing machine is the most commonly used model in complexity theory .\n",
      "\n",
      "\n",
      "Answer\n",
      "machine\n"
     ]
    }
   ],
   "source": [
    "Q,C,A = chatbot(444)\n",
    "print_ans(Q,C,A)"
   ]
  },
  {
   "cell_type": "markdown",
   "metadata": {},
   "source": [
    "Example 4"
   ]
  },
  {
   "cell_type": "code",
   "execution_count": 131,
   "metadata": {},
   "outputs": [
    {
     "name": "stdout",
     "output_type": "stream",
     "text": [
      "Question\n",
      "in what country is normandy located ?\n",
      "\n",
      "\n",
      "Context\n",
      "the normans ( norman : nourmands ; french : normands ; latin : normanni ) were the people who in the 10th and 11th centuries gave their name to normandy , a region in france . they were descended from norse ( \" norman \" comes from \" norseman \" ) raiders and pirates from denmark , iceland and norway who , under their leader rollo , agreed to swear fealty to king charles iii of west francia . through generations of assimilation and mixing with the native frankish and roman-gaulish populations , their descendants would gradually merge with the carolingian-based cultures of west francia . the distinct cultural and ethnic identity of the normans emerged initially in the first half of the 10th century , and it continued to evolve over the succeeding centuries .\n",
      "\n",
      "\n",
      "Answer\n",
      "Normandy, a region in France.\n"
     ]
    }
   ],
   "source": [
    "Q,C,A = chatbot(1)\n",
    "print_ans(Q,C,A)"
   ]
  },
  {
   "cell_type": "markdown",
   "metadata": {},
   "source": [
    "Example 5"
   ]
  },
  {
   "cell_type": "code",
   "execution_count": 132,
   "metadata": {},
   "outputs": [
    {
     "name": "stdout",
     "output_type": "stream",
     "text": [
      "Question\n",
      "who was the duke in the battle of hastings ?\n",
      "\n",
      "\n",
      "Context\n",
      "the norman dynasty had a major political , cultural and military impact on medieval europe and even the near east . the normans were famed for their martial spirit and eventually for their christian piety , becoming exponents of the catholic orthodoxy into which they assimilated . they adopted the gallo-romance language of the frankish land they settled , their dialect becoming known as norman , normaund or norman french , an important literary language . the duchy of normandy , which they formed by treaty with the french crown , was a great fief of medieval france , and under richard i of normandy was forged into a cohesive and formidable principality in feudal tenure . the normans are noted both for their culture , such as their unique romanesque architecture and musical traditions , and for their significant military accomplishments and innovations . norman adventurers founded the kingdom of sicily under roger ii after conquering southern italy on the saracens and byzantines , and an expedition on behalf of their duke , william the conqueror , led to the norman conquest of england at the battle of hastings in 1066. norman cultural and military influence spread from these new european centres to the crusader states of the near east , where their prince bohemond i founded the principality of antioch in the levant , to scotland and wales in great britain , to ireland , and to the coasts of north africa and the canary islands .\n",
      "\n",
      "\n",
      "Answer\n",
      "Christian piety\n"
     ]
    }
   ],
   "source": [
    "Q,C,A = chatbot(20)\n",
    "print_ans(Q,C,A)"
   ]
  },
  {
   "cell_type": "markdown",
   "metadata": {},
   "source": [
    "Example 6"
   ]
  },
  {
   "cell_type": "code",
   "execution_count": 133,
   "metadata": {},
   "outputs": [
    {
     "name": "stdout",
     "output_type": "stream",
     "text": [
      "Question\n",
      "who was the duke in the battle of hastings ?\n",
      "\n",
      "\n",
      "Context\n",
      "the norman dynasty had a major political , cultural and military impact on medieval europe and even the near east . the normans were famed for their martial spirit and eventually for their christian piety , becoming exponents of the catholic orthodoxy into which they assimilated . they adopted the gallo-romance language of the frankish land they settled , their dialect becoming known as norman , normaund or norman french , an important literary language . the duchy of normandy , which they formed by treaty with the french crown , was a great fief of medieval france , and under richard i of normandy was forged into a cohesive and formidable principality in feudal tenure . the normans are noted both for their culture , such as their unique romanesque architecture and musical traditions , and for their significant military accomplishments and innovations . norman adventurers founded the kingdom of sicily under roger ii after conquering southern italy on the saracens and byzantines , and an expedition on behalf of their duke , william the conqueror , led to the norman conquest of england at the battle of hastings in 1066. norman cultural and military influence spread from these new european centres to the crusader states of the near east , where their prince bohemond i founded the principality of antioch in the levant , to scotland and wales in great britain , to ireland , and to the coasts of north africa and the canary islands .\n",
      "\n",
      "\n",
      "Answer\n",
      "Christian piety\n"
     ]
    }
   ],
   "source": [
    "Q,C,A = chatbot(20)\n",
    "print_ans(Q,C,A)"
   ]
  },
  {
   "cell_type": "markdown",
   "metadata": {},
   "source": [
    "Example 7"
   ]
  },
  {
   "cell_type": "code",
   "execution_count": 147,
   "metadata": {},
   "outputs": [
    {
     "name": "stdout",
     "output_type": "stream",
     "text": [
      "Question\n",
      "what is norman art 's most well known piece ?\n",
      "\n",
      "\n",
      "Context\n",
      "by far the most famous work of norman art is the bayeux tapestry , which is not a tapestry but a work of embroidery . it was commissioned by odo , the bishop of bayeux and first earl of kent , employing natives from kent who were learned in the nordic traditions imported in the previous half century by the danish vikings .\n",
      "\n",
      "\n",
      "Answer\n",
      "of Norman art is the Bayeux Tapestry, which is not a tapestry but a work of embroidery. It was commissioned by Odo, the Bishop of Bayeux and first Earl of Kent, employing natives from Kent who were learned in the Nordic traditions imported in the previous half century by the Danish Vikings.\n"
     ]
    }
   ],
   "source": [
    "Q,C,A = chatbot(266)\n",
    "print_ans(Q,C,A)"
   ]
  },
  {
   "cell_type": "markdown",
   "metadata": {},
   "source": [
    "Example 8"
   ]
  },
  {
   "cell_type": "code",
   "execution_count": 151,
   "metadata": {},
   "outputs": [
    {
     "name": "stdout",
     "output_type": "stream",
     "text": [
      "Question\n",
      "how is the time needed to obtain the solution to a problem calculated ?\n",
      "\n",
      "\n",
      "Context\n",
      "to measure the difficulty of solving a computational problem , one may wish to see how much time the best algorithm requires to solve the problem . however , the running time may , in general , depend on the instance . in particular , larger instances will require more time to solve . thus the time required to solve a problem ( or the space required , or any measure of complexity ) is calculated as a function of the size of the instance . this is usually taken to be the size of the input in bits . complexity theory is interested in how algorithms scale with an increase in the input size . for instance , in the problem of finding whether a graph is connected , how much more time does it take to solve a problem for a graph with 2n vertices compared to the time taken for a graph with n vertices ?\n",
      "\n",
      "\n",
      "Answer\n",
      "general, depend on the instance. In particular, larger instances will require more time to solve. Thus the time required to solve a problem (or the space required, or any measure of complexity) is calculated as a function of\n"
     ]
    }
   ],
   "source": [
    "Q,C,A = chatbot(420)\n",
    "print_ans(Q,C,A)"
   ]
  },
  {
   "cell_type": "markdown",
   "metadata": {},
   "source": [
    "Example 9"
   ]
  },
  {
   "cell_type": "code",
   "execution_count": 169,
   "metadata": {},
   "outputs": [
    {
     "name": "stdout",
     "output_type": "stream",
     "text": [
      "Question\n",
      "how many students were enrolled in public schools in victoria ?\n",
      "\n",
      "\n",
      "Context\n",
      "as of august 2010 , victoria had 1,548 public schools , 489 catholic schools and 214 independent schools . just under 540,800 students were enrolled in public schools , and just over 311,800 in private schools . over 61 per cent of private students attend catholic schools . more than 462,000 students were enrolled in primary schools and more than 390,000 in secondary schools . retention rates for the final two years of secondary school were 77 per cent for public school students and 90 per cent for private school students . victoria has about 63,519 full-time teachers .\n",
      "\n",
      "\n",
      "Answer\n",
      "under 540,800\n"
     ]
    }
   ],
   "source": [
    "Q,C,A = chatbot(1997)\n",
    "print_ans(Q,C,A)"
   ]
  },
  {
   "cell_type": "markdown",
   "metadata": {},
   "source": [
    "Example 10"
   ]
  },
  {
   "cell_type": "code",
   "execution_count": 193,
   "metadata": {},
   "outputs": [
    {
     "name": "stdout",
     "output_type": "stream",
     "text": [
      "Question\n",
      "what extinction event might have created some conditions allowing the expansion of the amazon rainforest ?\n",
      "\n",
      "\n",
      "Context\n",
      "following the cretaceous–paleogene extinction event , the extinction of the dinosaurs and the wetter climate may have allowed the tropical rainforest to spread out across the continent . from 66–34 mya , the rainforest extended as far south as 45° . climate fluctuations during the last 34 million years have allowed savanna regions to expand into the tropics . during the oligocene , for example , the rainforest spanned a relatively narrow band . it expanded again during the middle miocene , then retracted to a mostly inland formation at the last glacial maximum . however , the rainforest still managed to thrive during these glacial periods , allowing for the survival and evolution of a broad diversity of species .\n",
      "\n",
      "\n",
      "Answer\n",
      "Climate fluctuations\n"
     ]
    }
   ],
   "source": [
    "Q,C,A = chatbot(6005)\n",
    "print_ans(Q,C,A)"
   ]
  }
 ],
 "metadata": {
  "kernelspec": {
   "display_name": "Python 3.5",
   "language": "python",
   "name": "python3"
  },
  "language_info": {
   "codemirror_mode": {
    "name": "ipython",
    "version": 3
   },
   "file_extension": ".py",
   "mimetype": "text/x-python",
   "name": "python",
   "nbconvert_exporter": "python",
   "pygments_lexer": "ipython3",
   "version": "3.5.5"
  }
 },
 "nbformat": 4,
 "nbformat_minor": 2
}
