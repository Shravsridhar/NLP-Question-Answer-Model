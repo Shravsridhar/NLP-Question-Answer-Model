{
 "cells": [
  {
   "cell_type": "markdown",
   "metadata": {},
   "source": [
    "# Biredctional LSTM"
   ]
  },
  {
   "cell_type": "code",
   "execution_count": null,
   "metadata": {},
   "outputs": [],
   "source": [
    "import json\n",
    "import numpy as np\n",
    "import re\n",
    "import io\n",
    "import nltk\n",
    "import h5py\n",
    "import keras as k\n",
    "from keras.layers.embeddings import Embedding\n",
    "from keras.layers import Input, Dense, Dropout, RepeatVector, Activation, merge, Lambda, Flatten, Reshape\n",
    "from keras.layers import LSTM, Bidirectional, TimeDistributed, GRU\n",
    "from keras.models import Model\n",
    "from keras.preprocessing.sequence import pad_sequences\n",
    "from keras.models import Model\n",
    "from keras import optimizers\n",
    "from keras.optimizers import Adam, RMSprop\n",
    "from keras.callbacks import ModelCheckpoint, EarlyStopping\n",
    "from keras.layers import concatenate\n",
    "from sklearn.metrics import f1_score"
   ]
  },
  {
   "cell_type": "markdown",
   "metadata": {},
   "source": [
    "CREATING EMBEDING LAYER WITH HELP OF WORD EMBEDDINGS: GLOVE"
   ]
  },
  {
   "cell_type": "code",
   "execution_count": 4,
   "metadata": {},
   "outputs": [
    {
     "name": "stdout",
     "output_type": "stream",
     "text": [
      "Found 400000 word vectors.\n"
     ]
    }
   ],
   "source": [
    "embeddings_index = {}\n",
    "f = open( 'glove.6B.100d.txt',encoding=\"utf8\")\n",
    "for line in f:\n",
    "    values = line.split()\n",
    "    word = values[0]\n",
    "    coefs = np.asarray(values[1:], dtype='float32')\n",
    "    embeddings_index[word] = coefs\n",
    "f.close()\n",
    "\n",
    "print('Found %s word vectors.' % len(embeddings_index))"
   ]
  },
  {
   "cell_type": "markdown",
   "metadata": {},
   "source": [
    "IMPORT VECTORIZED FILES FOR CONTEXT, QUESTIONS, ANSWERS POST PREPROCESS OF DATA"
   ]
  },
  {
   "cell_type": "code",
   "execution_count": 5,
   "metadata": {},
   "outputs": [],
   "source": [
    "context = h5py.File('context.h5','r')\n",
    "questions = h5py.File('questions.h5','r')\n",
    "answers = h5py.File('answers.h5','r')\n",
    "ans_begin = h5py.File('begin.h5','r')\n",
    "ans_end = h5py.File('end.h5','r')"
   ]
  },
  {
   "cell_type": "code",
   "execution_count": 6,
   "metadata": {},
   "outputs": [],
   "source": [
    "c_data = context['context'][:]\n",
    "qn_data = questions['questions'][:]\n",
    "ans_data = answers['answers'][:]"
   ]
  },
  {
   "cell_type": "code",
   "execution_count": 7,
   "metadata": {},
   "outputs": [],
   "source": [
    "begin_ans = ans_begin['begin'][:]\n",
    "end_ans = ans_end['end'][:]"
   ]
  },
  {
   "cell_type": "code",
   "execution_count": 8,
   "metadata": {},
   "outputs": [],
   "source": [
    "# loding vocabulary\n",
    "word_index = np.load('words.npy').item()"
   ]
  },
  {
   "cell_type": "code",
   "execution_count": 9,
   "metadata": {},
   "outputs": [],
   "source": [
    "embedding_matrix = np.zeros((len(word_index) + 1, 100))\n",
    "for word, i in word_index.items():\n",
    "    embedding_vector = embeddings_index.get(word)\n",
    "    if embedding_vector is not None:\n",
    "        # words not found in embedding index will be all-zeros.\n",
    "        embedding_matrix[i] = embedding_vector"
   ]
  },
  {
   "cell_type": "code",
   "execution_count": 10,
   "metadata": {},
   "outputs": [],
   "source": [
    "vocab_size = len(word_index) + 1\n",
    "#embedding_vector_length = 50\n",
    "batch = 64\n",
    "max_span_begin = np.amax(begin_ans)\n",
    "max_span_end = np.amax(end_ans)\n",
    "slce = 10000\n"
   ]
  },
  {
   "cell_type": "code",
   "execution_count": 11,
   "metadata": {},
   "outputs": [
    {
     "name": "stdout",
     "output_type": "stream",
     "text": [
      "Vocab Size\n"
     ]
    },
    {
     "data": {
      "text/plain": [
       "119616"
      ]
     },
     "execution_count": 11,
     "metadata": {},
     "output_type": "execute_result"
    }
   ],
   "source": [
    "print(\"Vocab Size\")\n",
    "vocab_size"
   ]
  },
  {
   "cell_type": "markdown",
   "metadata": {},
   "source": [
    "MODEL CREATION"
   ]
  },
  {
   "cell_type": "code",
   "execution_count": 12,
   "metadata": {},
   "outputs": [],
   "source": [
    "context_input = Input(shape=(700, ), dtype='int32', name='c_data')\n",
    "x = Embedding(input_dim=vocab_size, output_dim=100, weights=[embedding_matrix], \n",
    "              input_length=700, trainable=False)(context_input)\n",
    "lstm_out = Bidirectional(LSTM(256, return_sequences=True, implementation=2), merge_mode='concat')(x)\n",
    "drop_1 = Dropout(0.5)(lstm_out)"
   ]
  },
  {
   "cell_type": "code",
   "execution_count": 13,
   "metadata": {},
   "outputs": [],
   "source": [
    "ques_input = Input(shape=(100, ), dtype='int32', name='qn_data')\n",
    "x = Embedding(input_dim=vocab_size, output_dim=100, weights=[embedding_matrix], \n",
    "              input_length=100, trainable=False)(ques_input)\n",
    "lstm_out = Bidirectional(LSTM(256, return_sequences=True, implementation=2), merge_mode='concat')(x)\n",
    "drop_2 = Dropout(0.5)(lstm_out)"
   ]
  },
  {
   "cell_type": "code",
   "execution_count": 14,
   "metadata": {},
   "outputs": [
    {
     "name": "stdout",
     "output_type": "stream",
     "text": [
      "__________________________________________________________________________________________________\n",
      "Layer (type)                    Output Shape         Param #     Connected to                     \n",
      "==================================================================================================\n",
      "c_data (InputLayer)             (None, 700)          0                                            \n",
      "__________________________________________________________________________________________________\n",
      "qn_data (InputLayer)            (None, 100)          0                                            \n",
      "__________________________________________________________________________________________________\n",
      "embedding_1 (Embedding)         (None, 700, 100)     11961600    c_data[0][0]                     \n",
      "__________________________________________________________________________________________________\n",
      "embedding_2 (Embedding)         (None, 100, 100)     11961600    qn_data[0][0]                    \n",
      "__________________________________________________________________________________________________\n",
      "bidirectional_1 (Bidirectional) (None, 700, 512)     731136      embedding_1[0][0]                \n",
      "__________________________________________________________________________________________________\n",
      "bidirectional_2 (Bidirectional) (None, 100, 512)     731136      embedding_2[0][0]                \n",
      "__________________________________________________________________________________________________\n",
      "dropout_1 (Dropout)             (None, 700, 512)     0           bidirectional_1[0][0]            \n",
      "__________________________________________________________________________________________________\n",
      "dropout_2 (Dropout)             (None, 100, 512)     0           bidirectional_2[0][0]            \n",
      "__________________________________________________________________________________________________\n",
      "concatenate_1 (Concatenate)     (None, 800, 512)     0           dropout_1[0][0]                  \n",
      "                                                                 dropout_2[0][0]                  \n",
      "__________________________________________________________________________________________________\n",
      "bidirectional_3 (Bidirectional) (None, 512)          4198400     concatenate_1[0][0]              \n",
      "__________________________________________________________________________________________________\n",
      "dense_1 (Dense)                 (None, 3126)         1603638     bidirectional_3[0][0]            \n",
      "__________________________________________________________________________________________________\n",
      "dense_2 (Dense)                 (None, 3136)         1608768     bidirectional_3[0][0]            \n",
      "==================================================================================================\n",
      "Total params: 32,796,278\n",
      "Trainable params: 8,873,078\n",
      "Non-trainable params: 23,923,200\n",
      "__________________________________________________________________________________________________\n"
     ]
    }
   ],
   "source": [
    "merge_layer = concatenate([drop_1, drop_2], axis=1)\n",
    "biLSTM = Bidirectional(LSTM(512, implementation=2), merge_mode='mul')(merge_layer)\n",
    "drop_3 =  Dropout(0.5)(biLSTM)\n",
    "softmax_1 = Dense(max_span_begin, activation='softmax')(biLSTM)\n",
    "softmax_2 = Dense(max_span_end, activation='softmax')(biLSTM)\n",
    "model = Model(inputs=[context_input, ques_input], outputs=[softmax_1, softmax_2])\n",
    "model.compile(optimizer='adam', loss='sparse_categorical_crossentropy', metrics=['accuracy'])\n",
    "model.summary()\n"
   ]
  },
  {
   "cell_type": "code",
   "execution_count": 72,
   "metadata": {},
   "outputs": [
    {
     "name": "stdout",
     "output_type": "stream",
     "text": [
      "Epoch 1/50\n",
      " - 713s - loss: 11.9526 - dense_1_loss: 5.9232 - dense_2_loss: 6.0295 - dense_1_acc: 0.0438 - dense_2_acc: 0.0220\n",
      "Epoch 2/50\n",
      " - 713s - loss: 11.7656 - dense_1_loss: 5.8307 - dense_2_loss: 5.9348 - dense_1_acc: 0.0462 - dense_2_acc: 0.0247\n",
      "Epoch 3/50\n",
      " - 712s - loss: 11.5827 - dense_1_loss: 5.7407 - dense_2_loss: 5.8420 - dense_1_acc: 0.0480 - dense_2_acc: 0.0303\n",
      "Epoch 4/50\n",
      " - 712s - loss: 11.4807 - dense_1_loss: 5.6900 - dense_2_loss: 5.7907 - dense_1_acc: 0.0519 - dense_2_acc: 0.0323\n",
      "Epoch 5/50\n",
      " - 712s - loss: 11.3027 - dense_1_loss: 5.6021 - dense_2_loss: 5.7006 - dense_1_acc: 0.0547 - dense_2_acc: 0.0375\n",
      "Epoch 6/50\n",
      " - 713s - loss: 11.1123 - dense_1_loss: 5.5071 - dense_2_loss: 5.6053 - dense_1_acc: 0.0599 - dense_2_acc: 0.0445\n",
      "Epoch 7/50\n",
      " - 712s - loss: 10.9393 - dense_1_loss: 5.4209 - dense_2_loss: 5.5183 - dense_1_acc: 0.0620 - dense_2_acc: 0.0505\n",
      "Epoch 8/50\n",
      " - 712s - loss: 10.7678 - dense_1_loss: 5.3370 - dense_2_loss: 5.4308 - dense_1_acc: 0.0664 - dense_2_acc: 0.0551\n",
      "Epoch 9/50\n",
      " - 712s - loss: 10.5857 - dense_1_loss: 5.2478 - dense_2_loss: 5.3379 - dense_1_acc: 0.0693 - dense_2_acc: 0.0604\n",
      "Epoch 10/50\n",
      " - 713s - loss: 10.4181 - dense_1_loss: 5.1628 - dense_2_loss: 5.2553 - dense_1_acc: 0.0767 - dense_2_acc: 0.0698\n",
      "Epoch 11/50\n",
      " - 713s - loss: 10.2425 - dense_1_loss: 5.0773 - dense_2_loss: 5.1653 - dense_1_acc: 0.0800 - dense_2_acc: 0.0751\n",
      "Epoch 12/50\n",
      " - 712s - loss: 10.0561 - dense_1_loss: 4.9859 - dense_2_loss: 5.0702 - dense_1_acc: 0.0862 - dense_2_acc: 0.0812\n",
      "Epoch 13/50\n",
      " - 713s - loss: 9.9089 - dense_1_loss: 4.9149 - dense_2_loss: 4.9940 - dense_1_acc: 0.0937 - dense_2_acc: 0.0868\n",
      "Epoch 14/50\n",
      " - 712s - loss: 9.7296 - dense_1_loss: 4.8229 - dense_2_loss: 4.9067 - dense_1_acc: 0.1020 - dense_2_acc: 0.0963\n",
      "Epoch 15/50\n",
      " - 713s - loss: 9.5694 - dense_1_loss: 4.7455 - dense_2_loss: 4.8239 - dense_1_acc: 0.1035 - dense_2_acc: 0.1019\n",
      "Epoch 16/50\n",
      " - 713s - loss: 9.4190 - dense_1_loss: 4.6714 - dense_2_loss: 4.7476 - dense_1_acc: 0.1136 - dense_2_acc: 0.1070\n",
      "Epoch 17/50\n",
      " - 713s - loss: 11.5283 - dense_1_loss: 5.7250 - dense_2_loss: 5.8032 - dense_1_acc: 0.0642 - dense_2_acc: 0.0531\n",
      "Epoch 18/50\n",
      " - 712s - loss: 10.1141 - dense_1_loss: 5.0189 - dense_2_loss: 5.0952 - dense_1_acc: 0.0868 - dense_2_acc: 0.0815\n",
      "Epoch 19/50\n",
      " - 712s - loss: 9.7575 - dense_1_loss: 4.8410 - dense_2_loss: 4.9166 - dense_1_acc: 0.1001 - dense_2_acc: 0.0967\n",
      "Epoch 20/50\n",
      " - 712s - loss: 9.4655 - dense_1_loss: 4.6951 - dense_2_loss: 4.7703 - dense_1_acc: 0.1085 - dense_2_acc: 0.1052\n",
      "Epoch 21/50\n",
      " - 712s - loss: 9.1828 - dense_1_loss: 4.5531 - dense_2_loss: 4.6297 - dense_1_acc: 0.1170 - dense_2_acc: 0.1175\n",
      "Epoch 22/50\n",
      " - 712s - loss: 8.9023 - dense_1_loss: 4.4197 - dense_2_loss: 4.4826 - dense_1_acc: 0.1252 - dense_2_acc: 0.1209\n",
      "Epoch 23/50\n",
      " - 712s - loss: 8.6577 - dense_1_loss: 4.2966 - dense_2_loss: 4.3611 - dense_1_acc: 0.1310 - dense_2_acc: 0.1314\n",
      "Epoch 24/50\n",
      " - 712s - loss: 8.4160 - dense_1_loss: 4.1778 - dense_2_loss: 4.2382 - dense_1_acc: 0.1422 - dense_2_acc: 0.1369\n",
      "Epoch 25/50\n",
      " - 713s - loss: 8.2069 - dense_1_loss: 4.0733 - dense_2_loss: 4.1336 - dense_1_acc: 0.1475 - dense_2_acc: 0.1422\n",
      "Epoch 26/50\n",
      " - 713s - loss: 7.9960 - dense_1_loss: 3.9746 - dense_2_loss: 4.0213 - dense_1_acc: 0.1586 - dense_2_acc: 0.1510\n",
      "Epoch 27/50\n",
      " - 712s - loss: 7.8173 - dense_1_loss: 3.8878 - dense_2_loss: 3.9295 - dense_1_acc: 0.1570 - dense_2_acc: 0.1613\n",
      "Epoch 28/50\n",
      " - 713s - loss: 7.6212 - dense_1_loss: 3.7863 - dense_2_loss: 3.8348 - dense_1_acc: 0.1641 - dense_2_acc: 0.1643\n",
      "Epoch 29/50\n",
      " - 713s - loss: 7.4522 - dense_1_loss: 3.7002 - dense_2_loss: 3.7520 - dense_1_acc: 0.1668 - dense_2_acc: 0.1678\n",
      "Epoch 30/50\n",
      " - 714s - loss: 7.2815 - dense_1_loss: 3.6214 - dense_2_loss: 3.6601 - dense_1_acc: 0.1712 - dense_2_acc: 0.1736\n",
      "Epoch 31/50\n",
      " - 712s - loss: 7.1310 - dense_1_loss: 3.5466 - dense_2_loss: 3.5844 - dense_1_acc: 0.1751 - dense_2_acc: 0.1754\n",
      "Epoch 32/50\n",
      " - 712s - loss: 7.0177 - dense_1_loss: 3.4907 - dense_2_loss: 3.5270 - dense_1_acc: 0.1780 - dense_2_acc: 0.1808\n",
      "Epoch 33/50\n",
      " - 713s - loss: 6.8416 - dense_1_loss: 3.4014 - dense_2_loss: 3.4402 - dense_1_acc: 0.1883 - dense_2_acc: 0.1826\n",
      "Epoch 34/50\n",
      " - 713s - loss: 6.7125 - dense_1_loss: 3.3415 - dense_2_loss: 3.3711 - dense_1_acc: 0.1845 - dense_2_acc: 0.1920\n",
      "Epoch 35/50\n",
      " - 712s - loss: 6.5916 - dense_1_loss: 3.2806 - dense_2_loss: 3.3110 - dense_1_acc: 0.1916 - dense_2_acc: 0.1939\n",
      "Epoch 36/50\n",
      " - 713s - loss: 6.4770 - dense_1_loss: 3.2275 - dense_2_loss: 3.2495 - dense_1_acc: 0.1903 - dense_2_acc: 0.1962\n",
      "Epoch 37/50\n",
      " - 712s - loss: 6.3738 - dense_1_loss: 3.1701 - dense_2_loss: 3.2037 - dense_1_acc: 0.1926 - dense_2_acc: 0.1982\n",
      "Epoch 38/50\n",
      " - 712s - loss: 6.2508 - dense_1_loss: 3.1106 - dense_2_loss: 3.1402 - dense_1_acc: 0.2028 - dense_2_acc: 0.2016\n",
      "Epoch 39/50\n",
      " - 712s - loss: 6.1595 - dense_1_loss: 3.0673 - dense_2_loss: 3.0921 - dense_1_acc: 0.2003 - dense_2_acc: 0.2008\n",
      "Epoch 40/50\n",
      " - 713s - loss: 6.5093 - dense_1_loss: 3.2396 - dense_2_loss: 3.2697 - dense_1_acc: 0.1843 - dense_2_acc: 0.1898\n",
      "Epoch 41/50\n",
      " - 713s - loss: 6.1738 - dense_1_loss: 3.0734 - dense_2_loss: 3.1004 - dense_1_acc: 0.1989 - dense_2_acc: 0.2013\n",
      "Epoch 42/50\n",
      " - 713s - loss: 6.0254 - dense_1_loss: 3.0021 - dense_2_loss: 3.0232 - dense_1_acc: 0.2021 - dense_2_acc: 0.2091\n",
      "Epoch 43/50\n",
      " - 713s - loss: 5.9369 - dense_1_loss: 2.9563 - dense_2_loss: 2.9806 - dense_1_acc: 0.2054 - dense_2_acc: 0.2050\n",
      "Epoch 44/50\n",
      " - 712s - loss: 5.8303 - dense_1_loss: 2.9020 - dense_2_loss: 2.9282 - dense_1_acc: 0.2117 - dense_2_acc: 0.2060\n",
      "Epoch 45/50\n",
      " - 713s - loss: 5.7618 - dense_1_loss: 2.8691 - dense_2_loss: 2.8927 - dense_1_acc: 0.2073 - dense_2_acc: 0.2098\n",
      "Epoch 46/50\n",
      " - 712s - loss: 5.6587 - dense_1_loss: 2.8218 - dense_2_loss: 2.8369 - dense_1_acc: 0.2100 - dense_2_acc: 0.2110\n",
      "Epoch 47/50\n",
      " - 712s - loss: 6.1228 - dense_1_loss: 3.0476 - dense_2_loss: 3.0752 - dense_1_acc: 0.1968 - dense_2_acc: 0.1954\n",
      "Epoch 48/50\n",
      " - 713s - loss: 5.8115 - dense_1_loss: 2.8932 - dense_2_loss: 2.9184 - dense_1_acc: 0.2119 - dense_2_acc: 0.2119\n",
      "Epoch 49/50\n",
      " - 713s - loss: 5.6551 - dense_1_loss: 2.8157 - dense_2_loss: 2.8394 - dense_1_acc: 0.2167 - dense_2_acc: 0.2131\n",
      "Epoch 50/50\n",
      " - 713s - loss: 5.5556 - dense_1_loss: 2.7640 - dense_2_loss: 2.7917 - dense_1_acc: 0.2189 - dense_2_acc: 0.2163\n"
     ]
    }
   ],
   "source": [
    "model_history = model.fit([c_data[:slce], qn_data[:slce]],\n",
    "                        [begin_ans[:slce], end_ans[:slce]], verbose=2,\n",
    "                         batch_size=batch, epochs=50)"
   ]
  },
  {
   "cell_type": "markdown",
   "metadata": {},
   "source": [
    "IMPORT VALIDATION DATA POST PREPROCESSING FOR TESTING"
   ]
  },
  {
   "cell_type": "code",
   "execution_count": 73,
   "metadata": {},
   "outputs": [],
   "source": [
    "t_context = h5py.File('context_test.h5','r')\n",
    "t_questions = h5py.File('questions_test.h5','r')\n",
    "t_answers = h5py.File('answers_test.h5','r')\n",
    "t_ans_begin = h5py.File('begin_test.h5','r')\n",
    "t_ans_end = h5py.File('end_test.h5','r')"
   ]
  },
  {
   "cell_type": "code",
   "execution_count": 74,
   "metadata": {},
   "outputs": [],
   "source": [
    "t_c_data = t_context['context'][:]\n",
    "t_qn_data = t_questions['questions'][:]\n",
    "t_ans_data = t_answers['answers'][:]\n",
    "t_begin_ans = t_ans_begin['begin'][:]\n",
    "t_end_ans = t_ans_end['end'][:]"
   ]
  },
  {
   "cell_type": "code",
   "execution_count": 75,
   "metadata": {},
   "outputs": [],
   "source": [
    "predictions = model.predict([t_c_data,t_qn_data], batch_size=128)"
   ]
  },
  {
   "cell_type": "code",
   "execution_count": 76,
   "metadata": {},
   "outputs": [
    {
     "name": "stdout",
     "output_type": "stream",
     "text": [
      "(20302, 3126) (20302, 3136)\n"
     ]
    }
   ],
   "source": [
    "print(predictions[0].shape, predictions[1].shape)"
   ]
  },
  {
   "cell_type": "markdown",
   "metadata": {},
   "source": [
    "MODEL PERFORMANCE EVALUATION:\n",
    "    METRICS USED:\n",
    "        1. F1 SCORE\n",
    "        2. EXACT MATCH SCORE"
   ]
  },
  {
   "cell_type": "code",
   "execution_count": 77,
   "metadata": {},
   "outputs": [],
   "source": [
    "ansBegin = np.zeros((predictions[0].shape[0],), dtype=np.int32)\n",
    "ansEnd = np.zeros((predictions[0].shape[0],),dtype=np.int32) "
   ]
  },
  {
   "cell_type": "code",
   "execution_count": 78,
   "metadata": {},
   "outputs": [
    {
     "name": "stdout",
     "output_type": "stream",
     "text": [
      "0 1373 3 1211\n"
     ]
    }
   ],
   "source": [
    "for i in range(predictions[0].shape[0]):\n",
    "\tansBegin[i] = predictions[0][i, :].argmax()\n",
    "\tansEnd[i] = predictions[1][i, :].argmax()\n",
    "print(ansBegin.min(), ansBegin.max(), ansEnd.min(), ansEnd.max())"
   ]
  },
  {
   "cell_type": "markdown",
   "metadata": {},
   "source": [
    "F1 Score: The F1 score can be interpreted as a weighted average of the precision and recall, where an F1 score reaches its best value at 1 and worst score at 0"
   ]
  },
  {
   "cell_type": "code",
   "execution_count": 79,
   "metadata": {},
   "outputs": [],
   "source": [
    "f1_b = f1_score(t_begin_ans, ansBegin, average='micro')  "
   ]
  },
  {
   "cell_type": "code",
   "execution_count": 80,
   "metadata": {},
   "outputs": [],
   "source": [
    "f1_e = f1_score(t_end_ans, ansEnd, average='micro') "
   ]
  },
  {
   "cell_type": "code",
   "execution_count": 81,
   "metadata": {},
   "outputs": [
    {
     "name": "stdout",
     "output_type": "stream",
     "text": [
      "F1 Score\n"
     ]
    },
    {
     "data": {
      "text/plain": [
       "0.007437690867894788"
      ]
     },
     "execution_count": 81,
     "metadata": {},
     "output_type": "execute_result"
    }
   ],
   "source": [
    "print(\"F1 Score\")\n",
    "f1_b + f1_e"
   ]
  },
  {
   "cell_type": "markdown",
   "metadata": {},
   "source": [
    "Exact Match Score: One way of calculating it is through Accuracy classification score.\n",
    "It computes subset accuracy: the set of answers predicted for a sample data must exactly match the corresponding set of labels in true answers."
   ]
  },
  {
   "cell_type": "code",
   "execution_count": 82,
   "metadata": {},
   "outputs": [],
   "source": [
    "em_b = accuracy_score(t_begin_ans, ansBegin)"
   ]
  },
  {
   "cell_type": "code",
   "execution_count": 83,
   "metadata": {},
   "outputs": [],
   "source": [
    "em_e = accuracy_score(t_end_ans, ansEnd)"
   ]
  },
  {
   "cell_type": "code",
   "execution_count": 84,
   "metadata": {},
   "outputs": [
    {
     "name": "stdout",
     "output_type": "stream",
     "text": [
      "Exact Match Score\n"
     ]
    },
    {
     "data": {
      "text/plain": [
       "0.007437690867894788"
      ]
     },
     "execution_count": 84,
     "metadata": {},
     "output_type": "execute_result"
    }
   ],
   "source": [
    "print(\"Exact Match Score\")\n",
    "em_b + em_e"
   ]
  }
 ],
 "metadata": {
  "kernelspec": {
   "display_name": "conda_amazonei_mxnet_p27",
   "language": "python",
   "name": "conda_amazonei_mxnet_p27"
  },
  "language_info": {
   "codemirror_mode": {
    "name": "ipython",
    "version": 2
   },
   "file_extension": ".py",
   "mimetype": "text/x-python",
   "name": "python",
   "nbconvert_exporter": "python",
   "pygments_lexer": "ipython2",
   "version": "2.7.15"
  }
 },
 "nbformat": 4,
 "nbformat_minor": 2
}
