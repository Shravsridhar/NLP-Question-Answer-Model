{
 "cells": [
  {
   "cell_type": "markdown",
   "metadata": {},
   "source": [
    "# BIDIRECTIONAL LSTM WITH ATTENTION"
   ]
  },
  {
   "cell_type": "code",
   "execution_count": 165,
   "metadata": {},
   "outputs": [],
   "source": [
    "import utils\n",
    "import numpy as np\n",
    "import io\n",
    "import nltk\n",
    "import keras as k\n",
    "from sklearn.metrics import f1_score,accuracy_score\n",
    "from keras.layers.embeddings import Embedding\n",
    "from keras.layers import Input, Dense, merge, Dropout, RepeatVector, Activation, merge, Lambda, Flatten, Reshape\n",
    "from keras.layers import LSTM, Bidirectional, TimeDistributed, GRU, concatenate\n",
    "from keras.models import Model\n",
    "from keras.preprocessing.sequence import pad_sequences\n",
    "from keras.models import Model\n",
    "from keras import optimizers\n",
    "from keras.optimizers import Adam, RMSprop\n",
    "from keras.callbacks import ModelCheckpoint, EarlyStopping\n",
    "import string\n",
    "import argparse\n",
    "from collections import Counter\n",
    "import re\n",
    "import argparse\n",
    "import json\n",
    "import sys\n",
    "from ipynb.fs.full.Preprocess import splitDatasets, splitValDatasets,vectorizeValData, vectorizeData\n",
    "from ipynb.fs.full.Attention import Attention"
   ]
  },
  {
   "cell_type": "markdown",
   "metadata": {},
   "source": [
    "# Creating word embeddings with glove"
   ]
  },
  {
   "cell_type": "code",
   "execution_count": 8,
   "metadata": {},
   "outputs": [
    {
     "name": "stdout",
     "output_type": "stream",
     "text": [
      "Found 400000 word vectors.\n"
     ]
    }
   ],
   "source": [
    "embeddings_index = {}\n",
    "f = open( 'glove.6B.100d.txt',encoding=\"utf8\")\n",
    "for line in f:\n",
    "    values = line.split()\n",
    "    word = values[0]\n",
    "    coefs = np.asarray(values[1:], dtype='float32')\n",
    "    embeddings_index[word] = coefs\n",
    "f.close()\n",
    "\n",
    "print('Found %s word vectors.' % len(embeddings_index))"
   ]
  },
  {
   "cell_type": "markdown",
   "metadata": {},
   "source": [
    "Import train and dev datasets"
   ]
  },
  {
   "cell_type": "code",
   "execution_count": 9,
   "metadata": {},
   "outputs": [],
   "source": [
    "with open('train-v2.0.json') as json_data:\n",
    "    d = json.load(json_data)\n",
    "trainData = d['data']"
   ]
  },
  {
   "cell_type": "code",
   "execution_count": 10,
   "metadata": {},
   "outputs": [],
   "source": [
    "tContext, tQuestion, tQuestion_id, tAnswerBegin, tAnswerEnd, tAnswerText, maxLenTContext, maxLenTQuestion = splitDatasets(trainData)"
   ]
  },
  {
   "cell_type": "code",
   "execution_count": 11,
   "metadata": {},
   "outputs": [],
   "source": [
    "with open('dev-v2.0.json') as json_data:\n",
    "    d = json.load(json_data)\n",
    "valData = d['data']"
   ]
  },
  {
   "cell_type": "code",
   "execution_count": 36,
   "metadata": {},
   "outputs": [],
   "source": [
    "te_Context, te_Question, te_Question_id, te_AnswerBegin, te_AnswerEnd, te_AnswerText, te_maxLenTContext, te_maxLenTQuestion = splitDatasets(valData)"
   ]
  },
  {
   "cell_type": "code",
   "execution_count": 71,
   "metadata": {},
   "outputs": [],
   "source": [
    "vContext, vToken2CharIdx, vContextOriginal, vQuestion, vQuestion_id, maxLenVContext, maxLenVQuestion = splitValDatasets(valData)"
   ]
  },
  {
   "cell_type": "markdown",
   "metadata": {},
   "source": [
    "# Creation of vocabulary"
   ]
  },
  {
   "cell_type": "code",
   "execution_count": 13,
   "metadata": {},
   "outputs": [],
   "source": [
    "vocab = {}\n",
    "for words in tContext + tQuestion + vContext + vQuestion:\n",
    "    for word in words:\n",
    "        if word not in vocab:\n",
    "            vocab[word] = 1\n",
    "vocab = sorted(vocab.keys()) "
   ]
  },
  {
   "cell_type": "code",
   "execution_count": 14,
   "metadata": {},
   "outputs": [
    {
     "name": "stdout",
     "output_type": "stream",
     "text": [
      "107339\n"
     ]
    }
   ],
   "source": [
    "vocab_size = len(vocab) + 1\n",
    "print(vocab_size)\n",
    "word_index = dict((c, i + 1) for i, c in enumerate(vocab))\n",
    "context_maxlen = max(maxLenTContext, maxLenVContext)\n",
    "question_maxlen = max(maxLenTQuestion, maxLenVQuestion)"
   ]
  },
  {
   "cell_type": "markdown",
   "metadata": {},
   "source": [
    "# Vectorize train and datasets"
   ]
  },
  {
   "cell_type": "code",
   "execution_count": 15,
   "metadata": {},
   "outputs": [],
   "source": [
    "tX, tXq, tYBegin, tYEnd = vectorizeData(tContext, tQuestion, tAnswerBegin, tAnswerEnd, word_index, context_maxlen, question_maxlen)"
   ]
  },
  {
   "cell_type": "code",
   "execution_count": 57,
   "metadata": {},
   "outputs": [],
   "source": [
    "vX, vXq, vYBegin, vYEnd = vectorizeData(te_Context, te_Question, te_AnswerBegin, te_AnswerEnd, word_index, context_maxlen, question_maxlen)\n"
   ]
  },
  {
   "cell_type": "markdown",
   "metadata": {},
   "source": [
    "# Creation of embedding for Question and Context"
   ]
  },
  {
   "cell_type": "code",
   "execution_count": 18,
   "metadata": {},
   "outputs": [],
   "source": [
    "nb_words = len(word_index)\n",
    "EMBEDDING_DIM = 100\n",
    "MAX_SEQUENCE_LENGTH = context_maxlen\n",
    "\n",
    "embedding_matrix = np.zeros((nb_words+1, EMBEDDING_DIM))\n",
    "for word, i in word_index.items():\n",
    "    embedding_vector = embeddings_index.get(word)\n",
    "    if embedding_vector is not None:\n",
    "        embedding_matrix[i] = embedding_vector\n",
    "\n",
    "embedding_layer = Embedding(nb_words,\n",
    "                            EMBEDDING_DIM,\n",
    "                            weights=[embedding_matrix],\n",
    "                            input_length=MAX_SEQUENCE_LENGTH,trainable=True)"
   ]
  },
  {
   "cell_type": "markdown",
   "metadata": {},
   "source": [
    "# MODEL CREATION"
   ]
  },
  {
   "cell_type": "code",
   "execution_count": 19,
   "metadata": {},
   "outputs": [],
   "source": [
    "question_input = Input(shape=(question_maxlen,), dtype='int32', name='question_input')\n",
    "context_input = Input(shape=(context_maxlen,), dtype='int32', name='context_input')\n",
    "questionEmbd = Embedding(output_dim=EMBEDDING_DIM, input_dim=vocab_size,\n",
    "                         mask_zero=True, weights=[embedding_matrix], \n",
    "                         input_length=question_maxlen, trainable=False)(question_input)\n",
    "contextEmbd = Embedding(output_dim=EMBEDDING_DIM, input_dim=vocab_size,\n",
    "                         mask_zero=True, weights=[embedding_matrix], \n",
    "input_length=context_maxlen, trainable=False)(context_input)"
   ]
  },
  {
   "cell_type": "code",
   "execution_count": 21,
   "metadata": {
    "scrolled": true
   },
   "outputs": [
    {
     "name": "stdout",
     "output_type": "stream",
     "text": [
      "__________________________________________________________________________________________________\n",
      "Layer (type)                    Output Shape         Param #     Connected to                     \n",
      "==================================================================================================\n",
      "context_input (InputLayer)      (None, 766)          0                                            \n",
      "__________________________________________________________________________________________________\n",
      "question_input (InputLayer)     (None, 60)           0                                            \n",
      "__________________________________________________________________________________________________\n",
      "embedding_3 (Embedding)         (None, 766, 100)     10733900    context_input[0][0]              \n",
      "__________________________________________________________________________________________________\n",
      "embedding_2 (Embedding)         (None, 60, 100)      10733900    question_input[0][0]             \n",
      "__________________________________________________________________________________________________\n",
      "bidirectional_2 (Bidirectional) (None, 766, 256)     234496      embedding_3[0][0]                \n",
      "__________________________________________________________________________________________________\n",
      "bidirectional_1 (Bidirectional) (None, 60, 256)      234496      embedding_2[0][0]                \n",
      "__________________________________________________________________________________________________\n",
      "attention_2 (Attention)         (None, 256)          1022        bidirectional_2[0][0]            \n",
      "__________________________________________________________________________________________________\n",
      "attention_1 (Attention)         (None, 256)          316         bidirectional_1[0][0]            \n",
      "__________________________________________________________________________________________________\n",
      "concatenate_1 (Concatenate)     (None, 512)          0           attention_2[0][0]                \n",
      "                                                                 attention_1[0][0]                \n",
      "__________________________________________________________________________________________________\n",
      "dense_1 (Dense)                 (None, 766)          392958      concatenate_1[0][0]              \n",
      "__________________________________________________________________________________________________\n",
      "concatenate_2 (Concatenate)     (None, 1278)         0           concatenate_1[0][0]              \n",
      "                                                                 dense_1[0][0]                    \n",
      "__________________________________________________________________________________________________\n",
      "dense_2 (Dense)                 (None, 766)          979714      concatenate_2[0][0]              \n",
      "==================================================================================================\n",
      "Total params: 23,310,802\n",
      "Trainable params: 1,843,002\n",
      "Non-trainable params: 21,467,800\n",
      "__________________________________________________________________________________________________\n"
     ]
    },
    {
     "name": "stderr",
     "output_type": "stream",
     "text": [
      "/anaconda/envs/py35/lib/python3.5/site-packages/ipykernel/__main__.py:20: UserWarning: Update your `Model` call to the Keras 2 API: `Model(inputs=[<tf.Tenso..., outputs=[<tf.Tenso...)`\n"
     ]
    }
   ],
   "source": [
    "Q = Bidirectional(LSTM(128, return_sequences=True))(questionEmbd)\n",
    "D = Bidirectional(LSTM(128, return_sequences=True))(contextEmbd)\n",
    "Q2 = Attention(question_maxlen)(Q)\n",
    "D2 = Attention(context_maxlen)(D)\n",
    "L = concatenate([D2, Q2], axis=1)\n",
    "answerPtrBegin_output = Dense(context_maxlen, activation='softmax')(L)\n",
    "Lmerge = concatenate([L, answerPtrBegin_output],axis = 1)\n",
    "answerPtrEnd_output = Dense(context_maxlen, activation='softmax')(Lmerge)\n",
    "model = Model(input=[context_input, question_input], output=[answerPtrBegin_output, answerPtrEnd_output])\n",
    "am = optimizers.Adam(lr=0.0005)\n",
    "model.compile(optimizer=am, loss='categorical_crossentropy',\n",
    "              loss_weights=[.04, 0.04], metrics=['accuracy'])\n",
    "model.summary()"
   ]
  },
  {
   "cell_type": "markdown",
   "metadata": {},
   "source": [
    "Model starts from 51st epoch. 51 epochs were run previously, this model resumes from previous run."
   ]
  },
  {
   "cell_type": "code",
   "execution_count": 166,
   "metadata": {},
   "outputs": [
    {
     "name": "stdout",
     "output_type": "stream",
     "text": [
      "Epoch 1/30\n",
      " - 186s - loss: 0.2310 - dense_1_loss: 2.8946 - dense_2_loss: 2.8810 - dense_1_acc: 0.3359 - dense_2_acc: 0.3401\n",
      "Epoch 3/30\n",
      " - 187s - loss: 0.2168 - dense_1_loss: 2.7180 - dense_2_loss: 2.7022 - dense_1_acc: 0.3732 - dense_2_acc: 0.3805\n",
      "Epoch 4/30\n",
      " - 187s - loss: 0.2052 - dense_1_loss: 2.5765 - dense_2_loss: 2.5525 - dense_1_acc: 0.4099 - dense_2_acc: 0.4255\n",
      "Epoch 5/30\n",
      " - 187s - loss: 0.1942 - dense_1_loss: 2.4419 - dense_2_loss: 2.4122 - dense_1_acc: 0.4452 - dense_2_acc: 0.4597\n",
      "Epoch 6/30\n",
      " - 187s - loss: 0.1874 - dense_1_loss: 2.3573 - dense_2_loss: 2.3283 - dense_1_acc: 0.4654 - dense_2_acc: 0.4802\n",
      "Epoch 7/30\n",
      " - 187s - loss: 0.1761 - dense_1_loss: 2.2175 - dense_2_loss: 2.1839 - dense_1_acc: 0.5030 - dense_2_acc: 0.5191\n",
      "Epoch 8/30\n",
      " - 187s - loss: 0.1680 - dense_1_loss: 2.1166 - dense_2_loss: 2.0827 - dense_1_acc: 0.5303 - dense_2_acc: 0.5477\n",
      "Epoch 9/30\n",
      " - 187s - loss: 0.1598 - dense_1_loss: 2.0166 - dense_2_loss: 1.9773 - dense_1_acc: 0.5618 - dense_2_acc: 0.5750\n",
      "Epoch 10/30\n",
      " - 187s - loss: 0.1515 - dense_1_loss: 1.9171 - dense_2_loss: 1.8704 - dense_1_acc: 0.5827 - dense_2_acc: 0.6022\n",
      "Epoch 11/30\n",
      " - 187s - loss: 0.1442 - dense_1_loss: 1.8292 - dense_2_loss: 1.7761 - dense_1_acc: 0.6107 - dense_2_acc: 0.6261\n",
      "Epoch 12/30\n",
      " - 187s - loss: 0.1373 - dense_1_loss: 1.7455 - dense_2_loss: 1.6881 - dense_1_acc: 0.6317 - dense_2_acc: 0.6525\n",
      "Epoch 13/30\n",
      " - 186s - loss: 0.1453 - dense_1_loss: 1.8349 - dense_2_loss: 1.7968 - dense_1_acc: 0.6097 - dense_2_acc: 0.6204\n",
      "Epoch 14/30\n",
      " - 187s - loss: 0.1486 - dense_1_loss: 1.8769 - dense_2_loss: 1.8379 - dense_1_acc: 0.5954 - dense_2_acc: 0.6022\n",
      "Epoch 15/30\n",
      " - 187s - loss: 0.1339 - dense_1_loss: 1.7003 - dense_2_loss: 1.6484 - dense_1_acc: 0.6419 - dense_2_acc: 0.6608\n",
      "Epoch 16/30\n",
      " - 187s - loss: 0.1251 - dense_1_loss: 1.5941 - dense_2_loss: 1.5325 - dense_1_acc: 0.6722 - dense_2_acc: 0.6908\n",
      "Epoch 17/30\n",
      " - 187s - loss: 0.1219 - dense_1_loss: 1.5556 - dense_2_loss: 1.4928 - dense_1_acc: 0.6814 - dense_2_acc: 0.6972\n",
      "Epoch 18/30\n",
      " - 186s - loss: 0.1177 - dense_1_loss: 1.5048 - dense_2_loss: 1.4379 - dense_1_acc: 0.6951 - dense_2_acc: 0.7199\n",
      "Epoch 19/30\n",
      " - 187s - loss: 0.1096 - dense_1_loss: 1.4027 - dense_2_loss: 1.3373 - dense_1_acc: 0.7254 - dense_2_acc: 0.7402\n",
      "Epoch 20/30\n",
      " - 187s - loss: 0.1090 - dense_1_loss: 1.3982 - dense_2_loss: 1.3269 - dense_1_acc: 0.7252 - dense_2_acc: 0.7427\n",
      "Epoch 21/30\n",
      " - 186s - loss: 0.1035 - dense_1_loss: 1.3304 - dense_2_loss: 1.2563 - dense_1_acc: 0.7434 - dense_2_acc: 0.7635\n",
      "Epoch 22/30\n",
      " - 187s - loss: 0.0964 - dense_1_loss: 1.2427 - dense_2_loss: 1.1684 - dense_1_acc: 0.7646 - dense_2_acc: 0.7852\n",
      "Epoch 23/30\n",
      " - 186s - loss: 0.0908 - dense_1_loss: 1.1755 - dense_2_loss: 1.0953 - dense_1_acc: 0.7866 - dense_2_acc: 0.8040\n",
      "Epoch 24/30\n",
      " - 187s - loss: 0.0855 - dense_1_loss: 1.1073 - dense_2_loss: 1.0291 - dense_1_acc: 0.8040 - dense_2_acc: 0.8211\n",
      "Epoch 25/30\n",
      " - 187s - loss: 0.0892 - dense_1_loss: 1.1524 - dense_2_loss: 1.0784 - dense_1_acc: 0.7889 - dense_2_acc: 0.8078\n",
      "Epoch 26/30\n",
      " - 186s - loss: 0.0799 - dense_1_loss: 1.0379 - dense_2_loss: 0.9587 - dense_1_acc: 0.8233 - dense_2_acc: 0.8418\n",
      "Epoch 27/30\n",
      " - 187s - loss: 0.0747 - dense_1_loss: 0.9736 - dense_2_loss: 0.8944 - dense_1_acc: 0.8394 - dense_2_acc: 0.8564\n",
      "Epoch 28/30\n",
      " - 187s - loss: 0.0701 - dense_1_loss: 0.9156 - dense_2_loss: 0.8361 - dense_1_acc: 0.8527 - dense_2_acc: 0.8714\n",
      "Epoch 29/30\n",
      " - 187s - loss: 0.0674 - dense_1_loss: 0.8842 - dense_2_loss: 0.8009 - dense_1_acc: 0.8591 - dense_2_acc: 0.8825\n",
      "Epoch 30/30\n",
      " - 187s - loss: 0.0649 - dense_1_loss: 0.8510 - dense_2_loss: 0.7723 - dense_1_acc: 0.8671 - dense_2_acc: 0.8889\n"
     ]
    }
   ],
   "source": [
    "train_slice = 10000\n",
    "filepath=\"modelweightsfinal.hdf5\"\n",
    "checkpoint = ModelCheckpoint(filepath, monitor='val_acc', verbose=1, save_best_only=True, mode='max')\n",
    "callbacks_list = [checkpoint]\n",
    "model_history = model.fit([tX, tXq], [tYBegin, tYEnd],batch_size= 128, verbose=2,\n",
    "                          callbacks = callbacks_list,epochs=30)"
   ]
  },
  {
   "cell_type": "markdown",
   "metadata": {},
   "source": [
    "Save Model"
   ]
  },
  {
   "cell_type": "code",
   "execution_count": 167,
   "metadata": {},
   "outputs": [],
   "source": [
    "model_json = model.to_json()\n",
    "with open(\"model_final.json\", \"w\") as json_file:\n",
    "    json_file.write(model_json)\n",
    "# serialize weights to HDF5\n",
    "model.save_weights(\"model_final.h5\")"
   ]
  },
  {
   "cell_type": "markdown",
   "metadata": {},
   "source": [
    "# Predictions with test data"
   ]
  },
  {
   "cell_type": "code",
   "execution_count": 190,
   "metadata": {},
   "outputs": [
    {
     "name": "stdout",
     "output_type": "stream",
     "text": [
      "(20302, 766) (20302, 766)\n"
     ]
    }
   ],
   "source": [
    "predictions = model.predict([vX, vXq], batch_size=128)\n",
    "print(predictions[0].shape, predictions[1].shape)"
   ]
  },
  {
   "cell_type": "markdown",
   "metadata": {},
   "source": [
    "Answer Tokens are extracted with answer begin, end and joint "
   ]
  },
  {
   "cell_type": "code",
   "execution_count": 191,
   "metadata": {},
   "outputs": [
    {
     "name": "stdout",
     "output_type": "stream",
     "text": [
      "0 282 0 284\n"
     ]
    }
   ],
   "source": [
    "ansBegin = np.zeros((predictions[0].shape[0],), dtype=np.int32)\n",
    "ansEnd = np.zeros((predictions[0].shape[0],),dtype=np.int32) \n",
    "for i in range(predictions[0].shape[0]):\n",
    "\tansBegin[i] = predictions[0][i, :].argmax()\n",
    "\tansEnd[i] = predictions[1][i, :].argmax()\n",
    "print(ansBegin.min(), ansBegin.max(), ansEnd.min(), ansEnd.max())\n",
    "answers = {}\n",
    "for i in range(len(vQuestion_id)):\n",
    "    if ansBegin[i] >= len(vContext[i]):\n",
    "        answers[vQuestion_id[i]] = \"\"\n",
    "    elif ansEnd[i] >= len(vContext[i]):\n",
    "        answers[vQuestion_id[i]] = vContextOriginal[i][vToken2CharIdx[i][ansBegin[i]]:]\n",
    "    else:\n",
    "        answers[vQuestion_id[i]] = vContextOriginal[i][vToken2CharIdx[i][ansBegin[i]]:vToken2CharIdx[i][ansEnd[i]]+len(vContext[i][ansEnd[i]])]"
   ]
  },
  {
   "cell_type": "markdown",
   "metadata": {},
   "source": [
    "Saving answers to json file"
   ]
  },
  {
   "cell_type": "code",
   "execution_count": 192,
   "metadata": {},
   "outputs": [],
   "source": [
    "with io.open('answers_final.json', 'w', encoding='utf-8') as f:\n",
    "    f.write((json.dumps(answers, ensure_ascii=False)))"
   ]
  },
  {
   "cell_type": "markdown",
   "metadata": {},
   "source": [
    "# MODEL PERFORMANCE:\n",
    "\n",
    "Model performance on training accuracy and loss for Answer begin and end dense layers are visualized"
   ]
  },
  {
   "cell_type": "code",
   "execution_count": 241,
   "metadata": {},
   "outputs": [],
   "source": [
    "def plot_modelacc(fit_model):\n",
    "    with p.style.context('ggplot'):\n",
    "            p.plot(fit_model.history['dense_1_acc'])\n",
    "            p.plot(fit_model.history['dense_2_acc'])\n",
    "            p.title(\"MODEL ACCURACY\")\n",
    "            p.xlabel(\"# of EPOCHS\")\n",
    "            p.ylabel(\"ACCURACY\")\n",
    "            p.legend(['begin answer','end answer'],loc='upper left')\n",
    "    return p.show()"
   ]
  },
  {
   "cell_type": "code",
   "execution_count": 244,
   "metadata": {},
   "outputs": [],
   "source": [
    "def plot_model_loss(fit_model):\n",
    "    with p.style.context('ggplot'):\n",
    "            p.plot(fit_model.history['dense_1_loss'])\n",
    "            p.plot(fit_model.history['dense_2_loss'])\n",
    "            p.title(\"MODEL LOSS\")\n",
    "            p.xlabel(\"# of EPOCHS\")\n",
    "            p.ylabel(\"LOSS\")\n",
    "            p.legend(['begin answer', 'end answer'], loc='upper left')\n",
    "    return p.show()"
   ]
  },
  {
   "cell_type": "code",
   "execution_count": 243,
   "metadata": {},
   "outputs": [
    {
     "data": {
      "image/png": "[encoded data removed]",
      "text/plain": [
       "<Figure size 432x288 with 1 Axes>"
      ]
     },
     "metadata": {},
     "output_type": "display_data"
    }
   ],
   "source": [
    "import matplotlib.pyplot as p\n",
    "plot_modelacc(model_history)"
   ]
  },
  {
   "cell_type": "code",
   "execution_count": 245,
   "metadata": {},
   "outputs": [
    {
     "data": {
      "image/png": "[encoded data removed]",
      "text/plain": [
       "<Figure size 432x288 with 1 Axes>"
      ]
     },
     "metadata": {},
     "output_type": "display_data"
    }
   ],
   "source": [
    "plot_model_loss(model_history)"
   ]
  },
  {
   "cell_type": "markdown",
   "metadata": {},
   "source": [
    "# Evaluation of Model: F1 Score"
   ]
  },
  {
   "cell_type": "code",
   "execution_count": 215,
   "metadata": {},
   "outputs": [],
   "source": [
    "def f1_eval():\n",
    "    begin = f1_score(te_AnswerBegin,ansBegin,average=\"macro\")\n",
    "    end = f1_score(te_AnswerEnd,ansBegin,average=\"macro\")\n",
    "    f1 = (begin + end) * 100\n",
    "    return f1"
   ]
  },
  {
   "cell_type": "code",
   "execution_count": 217,
   "metadata": {},
   "outputs": [
    {
     "name": "stdout",
     "output_type": "stream",
     "text": [
      "MODEL F1 SCORE\n"
     ]
    },
    {
     "name": "stderr",
     "output_type": "stream",
     "text": [
      "/anaconda/envs/py35/lib/python3.5/site-packages/sklearn/metrics/classification.py:1143: UndefinedMetricWarning: F-score is ill-defined and being set to 0.0 in labels with no predicted samples.\n",
      "  'precision', 'predicted', average, warn_for)\n",
      "/anaconda/envs/py35/lib/python3.5/site-packages/sklearn/metrics/classification.py:1145: UndefinedMetricWarning: F-score is ill-defined and being set to 0.0 in labels with no true samples.\n",
      "  'recall', 'true', average, warn_for)\n"
     ]
    },
    {
     "data": {
      "text/plain": [
       "0.9480303342457967"
      ]
     },
     "execution_count": 217,
     "metadata": {},
     "output_type": "execute_result"
    }
   ],
   "source": [
    "f1 = f1_eval()\n",
    "print(\"MODEL F1 SCORE\")\n",
    "f1"
   ]
  },
  {
   "cell_type": "markdown",
   "metadata": {},
   "source": [
    "# TESTING MODEL"
   ]
  },
  {
   "cell_type": "code",
   "execution_count": 270,
   "metadata": {},
   "outputs": [],
   "source": [
    "def chatbot(number):\n",
    "    Q = te_Question[number]\n",
    "    C = (list(te_Context[number]))\n",
    "    qid = te_Question_id[number]\n",
    "    for id,ans in answers.items():   \n",
    "        if id == qid:\n",
    "            A= (ans)\n",
    "    return Q,C,A\n",
    "    "
   ]
  },
  {
   "cell_type": "markdown",
   "metadata": {},
   "source": [
    "Example "
   ]
  },
  {
   "cell_type": "code",
   "execution_count": 306,
   "metadata": {},
   "outputs": [],
   "source": [
    "Q,C,A = chatbot(1)"
   ]
  },
  {
   "cell_type": "code",
   "execution_count": 3,
   "metadata": {},
   "outputs": [
    {
     "name": "stdout",
     "output_type": "stream",
     "text": [
      "Question\n",
      "who was the duke in the battle of hastings ?\n"
     ]
    }
   ],
   "source": [
    "print(\"Question\")\n",
    "print(' '.join(Q))"
   ]
  },
  {
   "cell_type": "code",
   "execution_count": 2,
   "metadata": {},
   "outputs": [
    {
     "name": "stdout",
     "output_type": "stream",
     "text": [
      "Context\n",
      "the norman dynasty had a major political , cultural and military impact on medieval europe and even the near east . the normans were famed for their martial spirit and eventually for their christian piety , becoming exponents of the catholic orthodoxy into which they assimilated . they adopted the gallo-romance language of the frankish land they settled , their dialect becoming known as norman , normaund or norman french , an important literary language . the duchy of normandy , which they formed by treaty with the french crown , was a great fief of medieval france , and under richard i of normandy was forged into a cohesive and formidable principality in feudal tenure . the normans are noted both for their culture , such as their unique romanesque architecture and musical traditions , and for their significant military accomplishments and innovations . norman adventurers founded the kingdom of sicily under roger ii after conquering southern italy on the saracens and byzantines , and an expedition on behalf of their duke , william the conqueror , led to the norman conquest of england at the battle of hastings in 1066. norman cultural and military influence spread from these new european centres to the crusader states of the near east , where their prince bohemond i founded the principality of antioch in the levant , to scotland and wales in great britain , to ireland , and to the coasts of north africa and the canary islands .\n"
     ]
    }
   ],
   "source": [
    "print(\"Context\")\n",
    "print(' '.join(Q))"
   ]
  },
  {
   "cell_type": "code",
   "execution_count": 324,
   "metadata": {},
   "outputs": [
    {
     "name": "stdout",
     "output_type": "stream",
     "text": [
      "Answer\n",
      "Christian piety\n"
     ]
    }
   ],
   "source": [
    "print(\"Answer\")\n",
    "print(A)"
   ]
  }
 ],
 "metadata": {
  "kernelspec": {
   "display_name": "conda_amazonei_mxnet_p27",
   "language": "python",
   "name": "conda_amazonei_mxnet_p27"
  },
  "language_info": {
   "codemirror_mode": {
    "name": "ipython",
    "version": 2
   },
   "file_extension": ".py",
   "mimetype": "text/x-python",
   "name": "python",
   "nbconvert_exporter": "python",
   "pygments_lexer": "ipython2",
   "version": "2.7.15"
  }
 },
 "nbformat": 4,
 "nbformat_minor": 2
}
