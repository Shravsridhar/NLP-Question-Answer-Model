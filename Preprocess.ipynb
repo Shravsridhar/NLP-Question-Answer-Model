{
 "cells": [
  {
   "cell_type": "markdown",
   "metadata": {},
   "source": [
    "# PREPROCESS DATA"
   ]
  },
  {
   "cell_type": "code",
   "execution_count": 12,
   "metadata": {},
   "outputs": [],
   "source": [
    "from __future__ import print_function\n",
    "import string\n",
    "import argparse\n",
    "from collections import Counter\n",
    "import re\n",
    "import argparse\n",
    "import json\n",
    "import sys"
   ]
  },
  {
   "cell_type": "markdown",
   "metadata": {},
   "source": [
    "Tokenize Data"
   ]
  },
  {
   "cell_type": "code",
   "execution_count": 13,
   "metadata": {},
   "outputs": [],
   "source": [
    "def tokenize(sent):\n",
    "   \n",
    "    return [token.replace(\"``\", '\"').replace(\"''\", '\"') for token in nltk.word_tokenize(sent)]\n",
    "\n",
    "def tokenizeVal(sent):\n",
    "    tokenizedSent = [token.replace(\"``\", '\"').replace(\"''\", '\"') for token in nltk.word_tokenize(sent)]\n",
    "    tokenIdx2CharIdx = [None] * len(tokenizedSent)\n",
    "    idx = 0\n",
    "    token_idx = 0\n",
    "    while idx < len(sent) and token_idx < len(tokenizedSent):\n",
    "        word = tokenizedSent[token_idx]\n",
    "        if sent[idx:idx+len(word)] == word:\n",
    "            tokenIdx2CharIdx[token_idx] = idx\n",
    "            idx += len(word)\n",
    "            token_idx += 1 \n",
    "        else:\n",
    "            idx += 1\n",
    "    return tokenizedSent, tokenIdx2CharIdx"
   ]
  },
  {
   "cell_type": "markdown",
   "metadata": {},
   "source": [
    "Split datasets into Content, Question, id, Answerbegin, Answer end and answer content for each text in data"
   ]
  },
  {
   "cell_type": "code",
   "execution_count": 14,
   "metadata": {},
   "outputs": [],
   "source": [
    "def splitDatasets(f):\n",
    "   \n",
    "    xContext = [] # list of contexts paragraphs\n",
    "    xQuestion = [] # list of questions\n",
    "    xQuestion_id = [] # list of question id\n",
    "    xAnswerBegin = [] # list of indices of the beginning word in each answer span\n",
    "    xAnswerEnd = [] # list of indices of the ending word in each answer span\n",
    "    xAnswerText = [] # list of the answer text\n",
    "    maxLenContext = 0\n",
    "    maxLenQuestion = 0\n",
    "\n",
    "    for data in f:\n",
    "        paragraphs = data['paragraphs']\n",
    "        for paragraph in paragraphs:\n",
    "            context = paragraph['context']\n",
    "            context1 = context.replace(\"''\", '\" ')\n",
    "            context1 = context1.replace(\"``\", '\" ')\n",
    "            contextTokenized = tokenize(context.lower())\n",
    "            contextLength = len(contextTokenized)\n",
    "            if contextLength > maxLenContext:\n",
    "                maxLenContext = contextLength\n",
    "            qas = paragraph['qas']\n",
    "            for qa in qas:\n",
    "                question = qa['question']\n",
    "                question = question.replace(\"''\", '\" ')\n",
    "                question = question.replace(\"``\", '\" ')\n",
    "                questionTokenized = tokenize(question.lower())\n",
    "                if len(questionTokenized) > maxLenQuestion:\n",
    "                    maxLenQuestion = len(questionTokenized)\n",
    "                question_id = qa['id']\n",
    "                answers = qa['answers']\n",
    "                for answer in answers:\n",
    "                    answerText = answer['text']\n",
    "                    answerTokenized = tokenize(answerText.lower())\n",
    "                    # find indices of beginning/ending words of answer span among tokenized context\n",
    "                    contextToAnswerFirstWord = context1[:answer['answer_start'] + len(answerTokenized[0])]\n",
    "                    answerBeginIndex = len(tokenize(contextToAnswerFirstWord.lower())) - 1\n",
    "                    answerEndIndex = answerBeginIndex + len(answerTokenized) - 1\n",
    "                    \n",
    "                    xContext.append(contextTokenized)\n",
    "                    xQuestion.append(questionTokenized)\n",
    "                    xQuestion_id.append(str(question_id))\n",
    "                    xAnswerBegin.append(answerBeginIndex)\n",
    "                    xAnswerEnd.append(answerEndIndex)\n",
    "                    xAnswerText.append(answerText)\n",
    "    return xContext, xQuestion, xQuestion_id, xAnswerBegin, xAnswerEnd, xAnswerText, maxLenContext, maxLenQuestion"
   ]
  },
  {
   "cell_type": "code",
   "execution_count": 5,
   "metadata": {},
   "outputs": [],
   "source": [
    "def splitValDatasets(f):\n",
    "    '''Given a parsed Json data object, split the object into training context (paragraph), question, answer matrices, \n",
    "       and keep track of max context and question lengths.\n",
    "    '''\n",
    "    xContext = [] # list of contexts paragraphs\n",
    "    xQuestion = [] # list of questions\n",
    "    xQuestion_id = [] # list of question id\n",
    "    xToken2CharIdx = []\n",
    "    xContextOriginal = []\n",
    "    maxLenContext = 0\n",
    "    maxLenQuestion = 0\n",
    "\n",
    "    for data in f:\n",
    "        paragraphs = data['paragraphs']\n",
    "        for paragraph in paragraphs:\n",
    "            context = paragraph['context']\n",
    "            context1 = context.replace(\"''\", '\" ')\n",
    "            context1 = context1.replace(\"``\", '\" ')\n",
    "            contextTokenized, tokenIdx2CharIdx = tokenizeVal(context1.lower())\n",
    "            contextLength = len(contextTokenized)\n",
    "            if contextLength > maxLenContext:\n",
    "                maxLenContext = contextLength\n",
    "            qas = paragraph['qas']\n",
    "            for qa in qas:\n",
    "                question = qa['question']\n",
    "                question = question.replace(\"''\", '\" ')\n",
    "                question = question.replace(\"``\", '\" ')\n",
    "                questionTokenized = tokenize(question.lower())\n",
    "                if len(questionTokenized) > maxLenQuestion:\n",
    "                    maxLenQuestion = len(questionTokenized)\n",
    "                question_id = qa['id']\n",
    "                answers = qa['answers']\n",
    "                \n",
    "                xToken2CharIdx.append(tokenIdx2CharIdx)\n",
    "                xContextOriginal.append(context)\n",
    "                xContext.append(contextTokenized)\n",
    "                xQuestion.append(questionTokenized)\n",
    "                xQuestion_id.append(str(question_id))\n",
    "\n",
    "    return xContext, xToken2CharIdx, xContextOriginal, xQuestion, xQuestion_id, maxLenContext, maxLenQuestion"
   ]
  },
  {
   "cell_type": "code",
   "execution_count": 6,
   "metadata": {},
   "outputs": [],
   "source": [
    "def vectorizeData(xContext, xQuestion, xAnswerBeing, xAnswerEnd, word_index, context_maxlen, question_maxlen):\n",
    "    '''Vectorize the words to their respective index and pad context to max context length and question to max question length.\n",
    "       Answers vectors are padded to the max context length as well.\n",
    "    '''\n",
    "    X = []\n",
    "    Xq = []\n",
    "    YBegin = []\n",
    "    YEnd = []\n",
    "    for i in range(len(xContext)):\n",
    "        x = [word_index[w] for w in xContext[i]]\n",
    "        xq = [word_index[w] for w in xQuestion[i]]\n",
    "        # map the first and last words of answer span to one-hot representations\n",
    "        y_Begin =  np.zeros(len(xContext[i]))\n",
    "        y_Begin[xAnswerBeing[i]] = 1\n",
    "        y_End = np.zeros(len(xContext[i]))\n",
    "        y_End[xAnswerEnd[i]] = 1\n",
    "        X.append(x)\n",
    "        Xq.append(xq)\n",
    "        YBegin.append(y_Begin)\n",
    "        YEnd.append(y_End)\n",
    "    return pad_sequences(X, maxlen=context_maxlen, padding='post'), pad_sequences(Xq, maxlen=question_maxlen, padding='post'), pad_sequences(YBegin, maxlen=context_maxlen, padding='post'), pad_sequences(YEnd, maxlen=context_maxlen, padding='post')"
   ]
  },
  {
   "cell_type": "code",
   "execution_count": 7,
   "metadata": {},
   "outputs": [],
   "source": [
    "def vectorizeValData(xContext, xQuestion, word_index, context_maxlen, question_maxlen):\n",
    "    '''Vectorize the words to their respective index and pad context to max context length and question to max question length.\n",
    "       Answers vectors are padded to the max context length as well.\n",
    "    '''\n",
    "    X = []\n",
    "    Xq = []\n",
    "    YBegin = []\n",
    "    YEnd = []\n",
    "    for i in range(len(xContext)):\n",
    "        x = [word_index[w] for w in xContext[i]]\n",
    "        xq = [word_index[w] for w in xQuestion[i]]\n",
    "\n",
    "        X.append(x)\n",
    "        Xq.append(xq)\n",
    "\n",
    "    return pad_sequences(X, maxlen=context_maxlen, padding='post'), pad_sequences(Xq, maxlen=question_maxlen, padding='post')"
   ]
  }
 ],
 "metadata": {
  "kernelspec": {
   "display_name": "Python 3.5",
   "language": "python",
   "name": "python3"
  },
  "language_info": {
   "codemirror_mode": {
    "name": "ipython",
    "version": 3
   },
   "file_extension": ".py",
   "mimetype": "text/x-python",
   "name": "python",
   "nbconvert_exporter": "python",
   "pygments_lexer": "ipython3",
   "version": "3.5.5"
  }
 },
 "nbformat": 4,
 "nbformat_minor": 2
}
